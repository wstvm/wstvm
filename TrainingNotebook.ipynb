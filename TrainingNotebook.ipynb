{
 "cells": [
  {
   "cell_type": "code",
   "execution_count": 1,
   "metadata": {},
   "outputs": [
    {
     "name": "stderr",
     "output_type": "stream",
     "text": [
      "Using TensorFlow backend.\n"
     ]
    }
   ],
   "source": [
    "import pandas as pd\n",
    "import keras\n",
    "from sklearn import preprocessing"
   ]
  },
  {
   "cell_type": "code",
   "execution_count": 2,
   "metadata": {
    "collapsed": true
   },
   "outputs": [],
   "source": [
    "data_supervised = pd.read_pickle('data_supervised.pkl.gzip').drop(['index'],axis = 1)"
   ]
  },
  {
   "cell_type": "code",
   "execution_count": 3,
   "metadata": {
    "collapsed": true
   },
   "outputs": [],
   "source": [
    "data_supervised['ingreso_max'] = data_supervised['ingreso_max'].apply(lambda x: min(x,100000000))"
   ]
  },
  {
   "cell_type": "code",
   "execution_count": 4,
   "metadata": {},
   "outputs": [
    {
     "data": {
      "text/html": [
       "<div>\n",
       "<style>\n",
       "    .dataframe thead tr:only-child th {\n",
       "        text-align: right;\n",
       "    }\n",
       "\n",
       "    .dataframe thead th {\n",
       "        text-align: left;\n",
       "    }\n",
       "\n",
       "    .dataframe tbody tr th {\n",
       "        vertical-align: top;\n",
       "    }\n",
       "</style>\n",
       "<table border=\"1\" class=\"dataframe\">\n",
       "  <thead>\n",
       "    <tr style=\"text-align: right;\">\n",
       "      <th></th>\n",
       "      <th>id_trn_ach</th>\n",
       "      <th>id_cliente</th>\n",
       "      <th>valor_trx</th>\n",
       "      <th>fecha_usable</th>\n",
       "      <th>trx_mes_corrido</th>\n",
       "      <th>seg_str</th>\n",
       "      <th>ocupacion</th>\n",
       "      <th>tipo_vivienda</th>\n",
       "      <th>nivel_academico</th>\n",
       "      <th>estado_civil</th>\n",
       "      <th>...</th>\n",
       "      <th>categoria_4_clusters</th>\n",
       "      <th>nombre</th>\n",
       "      <th>key1</th>\n",
       "      <th>key2</th>\n",
       "      <th>key3</th>\n",
       "      <th>cat_target</th>\n",
       "      <th>cat_past1</th>\n",
       "      <th>cat_past2</th>\n",
       "      <th>cat_past3</th>\n",
       "      <th>final_nlp</th>\n",
       "    </tr>\n",
       "  </thead>\n",
       "  <tbody>\n",
       "    <tr>\n",
       "      <th>0</th>\n",
       "      <td>215120522</td>\n",
       "      <td>11856</td>\n",
       "      <td>32229.02</td>\n",
       "      <td>2016-09-01 00:00:59</td>\n",
       "      <td>32229.02</td>\n",
       "      <td>PERSONAL</td>\n",
       "      <td>1</td>\n",
       "      <td>O</td>\n",
       "      <td>T</td>\n",
       "      <td>S</td>\n",
       "      <td>...</td>\n",
       "      <td>2</td>\n",
       "      <td>platino</td>\n",
       "      <td>adulto</td>\n",
       "      <td>acomodado</td>\n",
       "      <td>tecnico</td>\n",
       "      <td>Tecnología y comunicaciones</td>\n",
       "      <td>NaN</td>\n",
       "      <td>NaN</td>\n",
       "      <td>NaN</td>\n",
       "      <td>pago,saldo,vacio,vacio</td>\n",
       "    </tr>\n",
       "    <tr>\n",
       "      <th>1</th>\n",
       "      <td>215120586</td>\n",
       "      <td>241516</td>\n",
       "      <td>26804.07</td>\n",
       "      <td>2016-09-01 00:02:44</td>\n",
       "      <td>26804.07</td>\n",
       "      <td>NaN</td>\n",
       "      <td>NaN</td>\n",
       "      <td>NaN</td>\n",
       "      <td>NaN</td>\n",
       "      <td>NaN</td>\n",
       "      <td>...</td>\n",
       "      <td>NaN</td>\n",
       "      <td>NaN</td>\n",
       "      <td>NaN</td>\n",
       "      <td>NaN</td>\n",
       "      <td>NaN</td>\n",
       "      <td>Tecnología y comunicaciones</td>\n",
       "      <td>NaN</td>\n",
       "      <td>NaN</td>\n",
       "      <td>NaN</td>\n",
       "      <td>pago,saldo,vacio,vacio</td>\n",
       "    </tr>\n",
       "    <tr>\n",
       "      <th>2</th>\n",
       "      <td>215120682</td>\n",
       "      <td>206803</td>\n",
       "      <td>270247.63</td>\n",
       "      <td>2016-09-01 00:04:45</td>\n",
       "      <td>270247.63</td>\n",
       "      <td>PERSONAL</td>\n",
       "      <td>1</td>\n",
       "      <td>F</td>\n",
       "      <td>E</td>\n",
       "      <td>M</td>\n",
       "      <td>...</td>\n",
       "      <td>2</td>\n",
       "      <td>platino</td>\n",
       "      <td>adulto</td>\n",
       "      <td>acomodado</td>\n",
       "      <td>tecnico</td>\n",
       "      <td>Hogar</td>\n",
       "      <td>NaN</td>\n",
       "      <td>NaN</td>\n",
       "      <td>NaN</td>\n",
       "      <td>empresas,publicas,medellin,esp,cc,cc</td>\n",
       "    </tr>\n",
       "    <tr>\n",
       "      <th>3</th>\n",
       "      <td>215120662</td>\n",
       "      <td>44531</td>\n",
       "      <td>78317.39</td>\n",
       "      <td>2016-09-01 00:04:50</td>\n",
       "      <td>78317.39</td>\n",
       "      <td>PERSONAL</td>\n",
       "      <td>1</td>\n",
       "      <td>I</td>\n",
       "      <td>U</td>\n",
       "      <td>S</td>\n",
       "      <td>...</td>\n",
       "      <td>0</td>\n",
       "      <td>universitario</td>\n",
       "      <td>joven</td>\n",
       "      <td>pobre</td>\n",
       "      <td>estudiante</td>\n",
       "      <td>Tecnología y comunicaciones</td>\n",
       "      <td>NaN</td>\n",
       "      <td>NaN</td>\n",
       "      <td>NaN</td>\n",
       "      <td>pago,saldo,vacio,vacio</td>\n",
       "    </tr>\n",
       "    <tr>\n",
       "      <th>4</th>\n",
       "      <td>215120740</td>\n",
       "      <td>135203</td>\n",
       "      <td>1063830.22</td>\n",
       "      <td>2016-09-01 00:07:41</td>\n",
       "      <td>1642590.43</td>\n",
       "      <td>PERSONAL PLUS</td>\n",
       "      <td>1</td>\n",
       "      <td>F</td>\n",
       "      <td>U</td>\n",
       "      <td>M</td>\n",
       "      <td>...</td>\n",
       "      <td>1</td>\n",
       "      <td>black</td>\n",
       "      <td>mayor</td>\n",
       "      <td>rico</td>\n",
       "      <td>profesional</td>\n",
       "      <td>Servicios financieros</td>\n",
       "      <td>NaN</td>\n",
       "      <td>NaN</td>\n",
       "      <td>NaN</td>\n",
       "      <td>pago,factura,asociado,bancoomevapfa,bancoomevapfa</td>\n",
       "    </tr>\n",
       "  </tbody>\n",
       "</table>\n",
       "<p>5 rows × 25 columns</p>\n",
       "</div>"
      ],
      "text/plain": [
       "  id_trn_ach  id_cliente   valor_trx        fecha_usable  trx_mes_corrido  \\\n",
       "0  215120522       11856    32229.02 2016-09-01 00:00:59         32229.02   \n",
       "1  215120586      241516    26804.07 2016-09-01 00:02:44         26804.07   \n",
       "2  215120682      206803   270247.63 2016-09-01 00:04:45        270247.63   \n",
       "3  215120662       44531    78317.39 2016-09-01 00:04:50         78317.39   \n",
       "4  215120740      135203  1063830.22 2016-09-01 00:07:41       1642590.43   \n",
       "\n",
       "         seg_str ocupacion tipo_vivienda nivel_academico estado_civil  \\\n",
       "0       PERSONAL         1             O               T            S   \n",
       "1            NaN       NaN           NaN             NaN          NaN   \n",
       "2       PERSONAL         1             F               E            M   \n",
       "3       PERSONAL         1             I               U            S   \n",
       "4  PERSONAL PLUS         1             F               U            M   \n",
       "\n",
       "                         ...                         categoria_4_clusters  \\\n",
       "0                        ...                                            2   \n",
       "1                        ...                                          NaN   \n",
       "2                        ...                                            2   \n",
       "3                        ...                                            0   \n",
       "4                        ...                                            1   \n",
       "\n",
       "          nombre    key1       key2         key3                   cat_target  \\\n",
       "0        platino  adulto  acomodado      tecnico  Tecnología y comunicaciones   \n",
       "1            NaN     NaN        NaN          NaN  Tecnología y comunicaciones   \n",
       "2        platino  adulto  acomodado      tecnico                        Hogar   \n",
       "3  universitario   joven      pobre   estudiante  Tecnología y comunicaciones   \n",
       "4          black   mayor       rico  profesional        Servicios financieros   \n",
       "\n",
       "  cat_past1 cat_past2 cat_past3  \\\n",
       "0       NaN       NaN       NaN   \n",
       "1       NaN       NaN       NaN   \n",
       "2       NaN       NaN       NaN   \n",
       "3       NaN       NaN       NaN   \n",
       "4       NaN       NaN       NaN   \n",
       "\n",
       "                                           final_nlp  \n",
       "0                             pago,saldo,vacio,vacio  \n",
       "1                             pago,saldo,vacio,vacio  \n",
       "2               empresas,publicas,medellin,esp,cc,cc  \n",
       "3                             pago,saldo,vacio,vacio  \n",
       "4  pago,factura,asociado,bancoomevapfa,bancoomevapfa  \n",
       "\n",
       "[5 rows x 25 columns]"
      ]
     },
     "execution_count": 4,
     "metadata": {},
     "output_type": "execute_result"
    }
   ],
   "source": [
    "data_supervised.head()"
   ]
  },
  {
   "cell_type": "code",
   "execution_count": 5,
   "metadata": {},
   "outputs": [
    {
     "data": {
      "text/plain": [
       "Index(['id_trn_ach', 'id_cliente', 'valor_trx', 'fecha_usable',\n",
       "       'trx_mes_corrido', 'seg_str', 'ocupacion', 'tipo_vivienda',\n",
       "       'nivel_academico', 'estado_civil', 'genero', 'ingreso_rango',\n",
       "       'ingreso_min', 'ingreso_max', 'edad_v2', 'categoria_4_clusters',\n",
       "       'nombre', 'key1', 'key2', 'key3', 'cat_target', 'cat_past1',\n",
       "       'cat_past2', 'cat_past3', 'final_nlp'],\n",
       "      dtype='object')"
      ]
     },
     "execution_count": 5,
     "metadata": {},
     "output_type": "execute_result"
    }
   ],
   "source": [
    "data_supervised.columns"
   ]
  },
  {
   "cell_type": "markdown",
   "metadata": {},
   "source": [
    "# Se eliminan transacciones extranas"
   ]
  },
  {
   "cell_type": "code",
   "execution_count": 6,
   "metadata": {
    "scrolled": true
   },
   "outputs": [
    {
     "data": {
      "text/plain": [
       "1.000000e-02     2\n",
       "4.000000e-02     1\n",
       "9.000000e-02     1\n",
       "1.000000e-01     1\n",
       "1.500000e-01     1\n",
       "1.700000e-01     2\n",
       "1.900000e-01     1\n",
       "3.600000e-01     1\n",
       "4.500000e-01     1\n",
       "6.100000e-01     1\n",
       "6.900000e-01     1\n",
       "8.300000e-01     1\n",
       "9.300000e-01     1\n",
       "9.500000e-01    12\n",
       "9.600000e-01    21\n",
       "9.700000e-01    25\n",
       "9.800000e-01    26\n",
       "9.900000e-01    29\n",
       "1.000000e+00    22\n",
       "1.010000e+00    21\n",
       "1.020000e+00    22\n",
       "1.030000e+00    26\n",
       "1.040000e+00    23\n",
       "1.050000e+00    11\n",
       "1.190000e+00     1\n",
       "1.560000e+00     1\n",
       "1.650000e+00     1\n",
       "1.900000e+00     1\n",
       "1.920000e+00     2\n",
       "1.930000e+00     5\n",
       "                ..\n",
       "6.987331e+07     1\n",
       "7.140118e+07     1\n",
       "7.160155e+07     1\n",
       "7.235086e+07     1\n",
       "7.262303e+07     1\n",
       "7.489004e+07     1\n",
       "7.669307e+07     1\n",
       "8.145455e+07     1\n",
       "8.293639e+07     1\n",
       "8.870910e+07     1\n",
       "9.414391e+07     1\n",
       "9.447256e+07     1\n",
       "9.467762e+07     1\n",
       "9.762498e+07     1\n",
       "9.964566e+07     1\n",
       "1.025643e+08     1\n",
       "1.058366e+08     1\n",
       "1.059129e+08     1\n",
       "1.075865e+08     1\n",
       "1.077696e+08     1\n",
       "1.299421e+08     1\n",
       "1.394687e+08     1\n",
       "1.596694e+08     1\n",
       "1.614366e+08     1\n",
       "1.616643e+08     1\n",
       "1.663609e+08     1\n",
       "1.678940e+08     1\n",
       "2.325986e+08     1\n",
       "1.361750e+09     1\n",
       "1.788605e+09     1\n",
       "Name: valor_trx, Length: 2981611, dtype: int64"
      ]
     },
     "execution_count": 6,
     "metadata": {},
     "output_type": "execute_result"
    }
   ],
   "source": [
    "data_supervised.valor_trx.value_counts().sort_index()"
   ]
  },
  {
   "cell_type": "markdown",
   "metadata": {},
   "source": [
    "# Todo lo que este por encima de 5 millones se elimina. A su vez a todo lo que este por debajo de 100 peso."
   ]
  },
  {
   "cell_type": "code",
   "execution_count": 9,
   "metadata": {},
   "outputs": [],
   "source": [
    "arriba_peso = data_supervised.valor_trx >100\n",
    "abajo_50m = data_supervised.valor_trx <50000001\n",
    "sin_ingresos = pd.isnull(data_supervised.ingreso_min)"
   ]
  },
  {
   "cell_type": "code",
   "execution_count": 10,
   "metadata": {},
   "outputs": [],
   "source": [
    "data_supervised = data_supervised[(abajo_50m) & (arriba_peso) & (~sin_ingresos)]"
   ]
  },
  {
   "cell_type": "code",
   "execution_count": 11,
   "metadata": {},
   "outputs": [
    {
     "data": {
      "text/plain": [
       "(3195528, 25)"
      ]
     },
     "execution_count": 11,
     "metadata": {},
     "output_type": "execute_result"
    }
   ],
   "source": [
    "data_supervised.shape"
   ]
  },
  {
   "cell_type": "code",
   "execution_count": 12,
   "metadata": {
    "collapsed": true
   },
   "outputs": [],
   "source": [
    "data_supervised = data_supervised.reset_index().drop('index',axis=1)"
   ]
  },
  {
   "cell_type": "code",
   "execution_count": 13,
   "metadata": {
    "collapsed": true
   },
   "outputs": [],
   "source": [
    "dummy_data_cat = pd.get_dummies(data_supervised[['seg_str', 'ocupacion', 'tipo_vivienda',\n",
    "       'nivel_academico', 'estado_civil', 'genero', 'ingreso_rango','categoria_4_clusters',\n",
    "       'nombre', 'key1', 'key2', 'key3','cat_past1',\n",
    "       'cat_past2', 'cat_past3']])"
   ]
  },
  {
   "cell_type": "code",
   "execution_count": 14,
   "metadata": {},
   "outputs": [
    {
     "data": {
      "text/plain": [
       "(3195528, 148)"
      ]
     },
     "execution_count": 14,
     "metadata": {},
     "output_type": "execute_result"
    }
   ],
   "source": [
    "dummy_data_cat.shape"
   ]
  },
  {
   "cell_type": "markdown",
   "metadata": {},
   "source": [
    "# Prepara el texto"
   ]
  },
  {
   "cell_type": "code",
   "execution_count": 15,
   "metadata": {
    "collapsed": true
   },
   "outputs": [],
   "source": [
    "from numpy import array\n",
    "from keras.preprocessing.text import one_hot\n",
    "docs = data_supervised['final_nlp']\n",
    "# integer encode the documents\n",
    "vocab_size = 15000\n",
    "encoded_docs = [one_hot(d, vocab_size) for d in docs]"
   ]
  },
  {
   "cell_type": "code",
   "execution_count": 16,
   "metadata": {},
   "outputs": [],
   "source": [
    "# Truncate and pad the review sequences \n",
    "from keras.preprocessing import sequence \n",
    "max_texto_pse = 20 \n",
    "nlp_features = sequence.pad_sequences(encoded_docs, maxlen=max_texto_pse) "
   ]
  },
  {
   "cell_type": "code",
   "execution_count": 17,
   "metadata": {},
   "outputs": [
    {
     "data": {
      "text/plain": [
       "(3195528, 20)"
      ]
     },
     "execution_count": 17,
     "metadata": {},
     "output_type": "execute_result"
    }
   ],
   "source": [
    "nlp_features.shape"
   ]
  },
  {
   "cell_type": "markdown",
   "metadata": {},
   "source": [
    "# Continuous features"
   ]
  },
  {
   "cell_type": "code",
   "execution_count": 18,
   "metadata": {
    "collapsed": true
   },
   "outputs": [],
   "source": [
    "data_supervised_cont = data_supervised[['valor_trx',\n",
    "       'trx_mes_corrido','ingreso_min', 'ingreso_max']]"
   ]
  },
  {
   "cell_type": "code",
   "execution_count": 19,
   "metadata": {},
   "outputs": [],
   "source": [
    "robust_train = preprocessing.RobustScaler()\n",
    "minmax = preprocessing.MinMaxScaler()"
   ]
  },
  {
   "cell_type": "markdown",
   "metadata": {},
   "source": [
    "Transformo la variable de aprendizaje"
   ]
  },
  {
   "cell_type": "code",
   "execution_count": 20,
   "metadata": {},
   "outputs": [],
   "source": [
    "num_classes = 27\n",
    "le = preprocessing.LabelEncoder()\n",
    "le.fit(data_supervised['cat_target'].unique())\n",
    "y_labeled = le.transform(data_supervised['cat_target'])\n",
    "y = keras.utils.to_categorical(y_labeled, num_classes)"
   ]
  },
  {
   "cell_type": "markdown",
   "metadata": {},
   "source": [
    "# Split de aprendizaje"
   ]
  },
  {
   "cell_type": "code",
   "execution_count": 21,
   "metadata": {},
   "outputs": [],
   "source": [
    "from sklearn.model_selection import train_test_split\n",
    "index_info_train, index_info_test, Y_train, Y_test = train_test_split(data_supervised_cont, y, test_size = 0.2, random_state=42)"
   ]
  },
  {
   "cell_type": "code",
   "execution_count": 22,
   "metadata": {},
   "outputs": [],
   "source": [
    "index_train = index_info_train.index\n",
    "index_test = index_info_test.index"
   ]
  },
  {
   "cell_type": "markdown",
   "metadata": {},
   "source": [
    "# Creacion de tablas"
   ]
  },
  {
   "cell_type": "code",
   "execution_count": 23,
   "metadata": {},
   "outputs": [],
   "source": [
    "dummy_train = dummy_data_cat.loc[index_train]\n",
    "dummy_test = dummy_data_cat.loc[index_test]\n",
    "data_supervised_cont_train = data_supervised_cont.loc[index_train]\n",
    "data_supervised_cont_test = data_supervised_cont.loc[index_test]\n",
    "nlp_features_train = nlp_features[index_train,:]\n",
    "nlp_features_test = nlp_features[index_test,:]"
   ]
  },
  {
   "cell_type": "markdown",
   "metadata": {},
   "source": [
    "# Preprocesado de data continua"
   ]
  },
  {
   "cell_type": "code",
   "execution_count": 25,
   "metadata": {},
   "outputs": [],
   "source": [
    "data_supervised_cont_train_ready = minmax.fit_transform(robust_train.fit_transform(data_supervised_cont_train))\n",
    "data_supervised_cont_test_ready = minmax.transform(robust_train.transform(data_supervised_cont_test))"
   ]
  },
  {
   "cell_type": "code",
   "execution_count": 29,
   "metadata": {},
   "outputs": [
    {
     "data": {
      "text/plain": [
       "(2556422, 4)"
      ]
     },
     "execution_count": 29,
     "metadata": {},
     "output_type": "execute_result"
    }
   ],
   "source": [
    "data_supervised_cont_train_ready.shape"
   ]
  },
  {
   "cell_type": "code",
   "execution_count": 30,
   "metadata": {},
   "outputs": [
    {
     "data": {
      "text/plain": [
       "(2556422, 20)"
      ]
     },
     "execution_count": 30,
     "metadata": {},
     "output_type": "execute_result"
    }
   ],
   "source": [
    "nlp_features_train.shape"
   ]
  },
  {
   "cell_type": "code",
   "execution_count": 31,
   "metadata": {},
   "outputs": [
    {
     "data": {
      "text/plain": [
       "(2556422, 148)"
      ]
     },
     "execution_count": 31,
     "metadata": {},
     "output_type": "execute_result"
    }
   ],
   "source": [
    "dummy_train.shape"
   ]
  },
  {
   "cell_type": "markdown",
   "metadata": {},
   "source": [
    "# Construccion de la red"
   ]
  },
  {
   "cell_type": "code",
   "execution_count": 40,
   "metadata": {
    "collapsed": true
   },
   "outputs": [],
   "source": [
    "from keras.layers import Dense,Dropout, LSTM, Input, Embedding,Flatten, concatenate\n",
    "from keras.models import Model"
   ]
  },
  {
   "cell_type": "code",
   "execution_count": 52,
   "metadata": {},
   "outputs": [
    {
     "name": "stdout",
     "output_type": "stream",
     "text": [
      "__________________________________________________________________________________________________\n",
      "Layer (type)                    Output Shape         Param #     Connected to                     \n",
      "==================================================================================================\n",
      "input_46 (InputLayer)           (None, 4)            0                                            \n",
      "__________________________________________________________________________________________________\n",
      "input_48 (InputLayer)           (None, 148)          0                                            \n",
      "__________________________________________________________________________________________________\n",
      "dense_57 (Dense)                (None, 32)           160         input_46[0][0]                   \n",
      "__________________________________________________________________________________________________\n",
      "dense_58 (Dense)                (None, 32)           4768        input_48[0][0]                   \n",
      "__________________________________________________________________________________________________\n",
      "dropout_48 (Dropout)            (None, 32)           0           dense_57[0][0]                   \n",
      "__________________________________________________________________________________________________\n",
      "dropout_49 (Dropout)            (None, 32)           0           dense_58[0][0]                   \n",
      "__________________________________________________________________________________________________\n",
      "concatenate_19 (Concatenate)    (None, 64)           0           dropout_48[0][0]                 \n",
      "                                                                 dropout_49[0][0]                 \n",
      "__________________________________________________________________________________________________\n",
      "dense_59 (Dense)                (None, 32)           2080        concatenate_19[0][0]             \n",
      "__________________________________________________________________________________________________\n",
      "dropout_50 (Dropout)            (None, 32)           0           dense_59[0][0]                   \n",
      "__________________________________________________________________________________________________\n",
      "dense_60 (Dense)                (None, 27)           891         dropout_50[0][0]                 \n",
      "==================================================================================================\n",
      "Total params: 7,899\n",
      "Trainable params: 7,899\n",
      "Non-trainable params: 0\n",
      "__________________________________________________________________________________________________\n"
     ]
    }
   ],
   "source": [
    "contin_input = Input(shape=(4, ))\n",
    "nlp_input = Input(shape=(20,) )\n",
    "one_hot_input = Input(shape=(148,) )\n",
    "\n",
    "embedding_nlp = Embedding(vocab_size, 32, input_length=max_texto_pse)(nlp_input)\n",
    "#lstm_embedding = LSTM(16)(embedding_nlp)\n",
    "dense_embedding = Dense(32)(embedding_nlp)\n",
    "\n",
    "\n",
    "cont_dense = Dense(32)(contin_input)\n",
    "one_hot_dense = Dense(32)(one_hot_input)\n",
    "\n",
    "drop_out_embedding = Dropout(0.20)(dense_embedding)\n",
    "drop_out_cont = Dropout(0.20)(cont_dense)\n",
    "drop_out_one_hot = Dropout(0.20)(one_hot_dense)\n",
    "\n",
    "\n",
    "merge_one = concatenate([drop_out_cont, drop_out_one_hot])\n",
    "\n",
    "#merge_two = concatenate([merge_one, drop_out_embedding])\n",
    "\n",
    "Dense_relu = Dense(32, activation='relu')(merge_one)\n",
    "#Embedding_last = Dense(32, activation='relu')(dense_embedding)\n",
    "\n",
    "#merge_two = concatenate([Dense_relu, Embedding_last])\n",
    "\n",
    "final_drop = Dropout(0.25)(Dense_relu)\n",
    "dense_output = Dense(num_classes,activation='sigmoid')(final_drop)\n",
    "\n",
    "\n",
    "\n",
    "model = Model(inputs=[contin_input, nlp_input,one_hot_input], outputs=dense_output)\n",
    "\n",
    "\n",
    "model.compile(loss=keras.losses.categorical_crossentropy,\n",
    "              optimizer='adam',\n",
    "              metrics=['accuracy'])\n",
    "\n",
    "model.summary()"
   ]
  },
  {
   "cell_type": "code",
   "execution_count": null,
   "metadata": {},
   "outputs": [
    {
     "name": "stdout",
     "output_type": "stream",
     "text": [
      "Epoch 1/2\n",
      " 378176/2556422 [===>..........................] - ETA: 4:26 - loss: 0.8258 - acc: 0.7469"
     ]
    }
   ],
   "source": [
    "callback_keras = keras.callbacks.TensorBoard(log_dir='./Graph', histogram_freq=0,  \n",
    "          write_graph=True, write_images=True)\n",
    "\n",
    "model.fit([data_supervised_cont_train_ready,nlp_features_train,dummy_train], Y_train, epochs=2,callbacks=[callback_keras])\n",
    "\n",
    "# Final evaluation of the model\n",
    "scores = model.evaluate([data_supervised_cont_test_ready,nlp_features_test,dummy_test], Y_test, verbose=0)\n",
    "print(\"Accuracy: %.2f%%\" % (scores[1]*100))"
   ]
  },
  {
   "cell_type": "markdown",
   "metadata": {},
   "source": [
    "# Lamentablemente por un tema de tiempos la arquitectura no es la optima, y deseariamos trabajarle ma. "
   ]
  },
  {
   "cell_type": "code",
   "execution_count": null,
   "metadata": {
    "collapsed": true
   },
   "outputs": [],
   "source": []
  }
 ],
 "metadata": {
  "kernelspec": {
   "display_name": "Python 3",
   "language": "python",
   "name": "python3"
  },
  "language_info": {
   "codemirror_mode": {
    "name": "ipython",
    "version": 3
   },
   "file_extension": ".py",
   "mimetype": "text/x-python",
   "name": "python",
   "nbconvert_exporter": "python",
   "pygments_lexer": "ipython3",
   "version": "3.6.2"
  }
 },
 "nbformat": 4,
 "nbformat_minor": 2
}
