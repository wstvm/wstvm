{
 "cells": [
  {
   "cell_type": "code",
   "execution_count": 55,
   "metadata": {},
   "outputs": [],
   "source": [
    "import pandas as pd\n",
    "import numpy as np\n",
    "\n",
    "\n",
    "data = pd.read_pickle('dt_trxpse_V3.pkl.gzip')"
   ]
  },
  {
   "cell_type": "markdown",
   "metadata": {},
   "source": [
    "# Dado que esta fase se acerca al entrenamiento, es necesario depurar transacciones que no puedan ser usadas."
   ]
  },
  {
   "cell_type": "markdown",
   "metadata": {},
   "source": [
    "Los criterios para esto son:\n",
    "* Si no tiene fecha, se elimina.\n",
    "* Si no se tiene valor, se elimina.\n",
    "* Si no tiene cliente, se elimina."
   ]
  },
  {
   "cell_type": "code",
   "execution_count": 56,
   "metadata": {},
   "outputs": [],
   "source": [
    "data_clean = data.dropna(subset=['fecha_usable','id_cliente', 'valor_trx'])"
   ]
  },
  {
   "cell_type": "code",
   "execution_count": null,
   "metadata": {
    "scrolled": true
   },
   "outputs": [],
   "source": [
    "#Muestreo aleatorio del 0.01\n",
    "small_df = df.sample(frac=0.01,random_state=11).compute()\n",
    "#small_df.fecha_usable=small_df.fecha_usable.astype(np.datetime64)"
   ]
  },
  {
   "cell_type": "code",
   "execution_count": null,
   "metadata": {
    "collapsed": true
   },
   "outputs": [],
   "source": [
    "#small_df.id_cliente.value_counts()\n",
    "test_df = small_df[small_df.id_cliente.isin(['269115','187977','26729','157323','131290','254083','78033'])]"
   ]
  },
  {
   "cell_type": "code",
   "execution_count": 22,
   "metadata": {
    "collapsed": true
   },
   "outputs": [],
   "source": [
    "###PRIMERA FUNCIÓN\n",
    "#Obtiene las categorías de sectores y subsectores en las que el cliente del registro más \n",
    "#gastó (hasta un máximo de 3) por cada mes.\n",
    "#df: dataframe con los datos de los clientes\n",
    "#column_name: columna a rankear\n",
    "def get_df_categories_rank(df,column_name='sector'):\n",
    "    sized_df=df.groupby(['id_cliente',pd.Grouper(key='fecha_usable',freq='M'),column_name],as_index=False).size().unstack(fill_value=0).sort_index(level=['id_cliente','fecha_usable'])\n",
    "    cantidad_columnas = sized_df.shape[1]\n",
    "    sized_df.insert(cantidad_columnas, column='NINGUNO',value=0, allow_duplicates=True)\n",
    "    sized_df.insert(cantidad_columnas+1, column='NINGUNO',value=0, allow_duplicates=True)\n",
    "    sized_df.insert(cantidad_columnas+2, column='NINGUNO',value=0, allow_duplicates=True)\n",
    "    sized_df_index = sized_df.index\n",
    "    sized_df_columns = sized_df.columns\n",
    "    column_ranks = sized_df.apply(np.argsort, axis=1)\n",
    "    \n",
    "    #ranked_columns = sized_df.columns.to_series()[column_ranks.values[:,::-1][:,:3]]\n",
    "    del sized_df\n",
    "    ranked_columns = sized_df_columns.to_series()[column_ranks.values[:,::-1][:,:3]]\n",
    "    \n",
    "    del column_ranks\n",
    "    return pd.DataFrame(ranked_columns, index=sized_df_index, columns=['primer_{}'.format(column_name),'segundo_{}'.format(column_name),'tercer_{}'.format(column_name)]).reset_index(level=['id_cliente','fecha_usable'])"
   ]
  },
  {
   "cell_type": "code",
   "execution_count": 3,
   "metadata": {
    "collapsed": true
   },
   "outputs": [],
   "source": [
    "#Devuelve el gasto histórico TOTAL a la fecha del registro. La frecuencia se controla con el parámetro \"freq\"\n",
    "def get_cumulative_values(df,freq,column_name='valor_trx'):\n",
    "    return df.groupby(['id_cliente',pd.Grouper(key='fecha_usable',freq=freq)],as_index=True)['valor_trx'].sum().sort_index(level=['id_cliente','fecha_usable']).groupby('id_cliente').cumsum()\n",
    "\n",
    "#SEGUNDA FUNCIÓN\n",
    "#Esta función calcula el gasto acumulado en lo corrido del mes. Lo hace hallando el gasto acumulado total al día\n",
    "#de la transacción y restándole el gasto acumulado a inicio del mes.\n",
    "#Este gasto acumulado INCLUYE\n",
    "def gasto_mes_corrido(df):\n",
    "    acumulado_dias = get_cumulative_values(df,'D')\n",
    "    acumulado_meses = get_cumulative_values(df,'M').to_frame(name='valor_trx_mes')\n",
    "    fin_mes_previo = (acumulado_dias.index.get_level_values('fecha_usable').to_period('M').astype('datetime64[D]')-np.timedelta64(1,unit='D')).to_period('D')\n",
    "    acumulado_meses['id_cliente_key'] = acumulado_meses.index.get_level_values('id_cliente')\n",
    "    acumulado_meses['fin_mes_previo'] = acumulado_meses.index.get_level_values('fecha_usable')\n",
    "    df_final = pd.DataFrame({'valor_trx_acum':acumulado_dias,'id_cliente_key':acumulado_dias.index.get_level_values('id_cliente'),'fecha_usable':acumulado_dias.index.get_level_values('fecha_usable'),'fin_mes_previo':fin_mes_previo.astype('datetime64[D]')},index=acumulado_dias.index)\n",
    "    df_final = pd.merge_asof(df_final.sort_values(['fin_mes_previo']),acumulado_meses.sort_values(['fin_mes_previo']),on=['fin_mes_previo'],by='id_cliente_key').sort_values(['id_cliente_key','fecha_usable'])\n",
    "    df_final['valor_trx_mes'].fillna(0,inplace=True)\n",
    "    df_final['trx_mes_corrido'] = df_final.valor_trx_acum-df_final.valor_trx_mes\n",
    "    \n",
    "    return df_final[['id_cliente_key','fecha_usable','trx_mes_corrido']]"
   ]
  },
  {
   "cell_type": "code",
   "execution_count": 30,
   "metadata": {
    "scrolled": true
   },
   "outputs": [],
   "source": [
    "#Ejemplo de uso función 1\n",
    "r1 = get_df_categories_rank(data_clean,'subsector')\n",
    "##Para unir la base, se debe usar pd.merge_asof\n",
    "##OJO, NO PUDEN HABER NaN en ninguna en las columnas \"fecha_usable\" para poder hacer este merge\n",
    "#ejemplo del merge_asof\n",
    "#pd.merge_asof(data_clean.sort_values(['fecha_usable']),r1.sort_values(['fecha_usable']),on='fecha_usable', by='id_cliente')\n"
   ]
  },
  {
   "cell_type": "code",
   "execution_count": 31,
   "metadata": {
    "collapsed": true
   },
   "outputs": [],
   "source": [
    "r2 = get_df_categories_rank(data_clean,'descripcion')"
   ]
  },
  {
   "cell_type": "code",
   "execution_count": 57,
   "metadata": {
    "collapsed": true
   },
   "outputs": [],
   "source": [
    "data_clean_merged =  pd.merge_asof(data_clean.sort_values(['fecha_usable']),r1.sort_values(['fecha_usable']),on='fecha_usable', by='id_cliente')"
   ]
  },
  {
   "cell_type": "code",
   "execution_count": 58,
   "metadata": {
    "collapsed": true
   },
   "outputs": [],
   "source": [
    "data_clean_merged = pd.merge_asof(data_clean_merged.sort_values(['fecha_usable']),r2.sort_values(['fecha_usable']),on='fecha_usable', by='id_cliente')"
   ]
  },
  {
   "cell_type": "code",
   "execution_count": 21,
   "metadata": {
    "scrolled": true
   },
   "outputs": [],
   "source": [
    "#Ejemplo de uso función 2\n",
    "data_gasto = gasto_mes_corrido(data_clean)\n",
    "#Aquí solo basta hacer un merge corriente"
   ]
  },
  {
   "cell_type": "code",
   "execution_count": 37,
   "metadata": {},
   "outputs": [],
   "source": [
    "data_gasto.columns = ['id_cliente','fecha_usable','trx_mes_corrido']"
   ]
  },
  {
   "cell_type": "code",
   "execution_count": 38,
   "metadata": {},
   "outputs": [
    {
     "data": {
      "text/html": [
       "<div>\n",
       "<style>\n",
       "    .dataframe thead tr:only-child th {\n",
       "        text-align: right;\n",
       "    }\n",
       "\n",
       "    .dataframe thead th {\n",
       "        text-align: left;\n",
       "    }\n",
       "\n",
       "    .dataframe tbody tr th {\n",
       "        vertical-align: top;\n",
       "    }\n",
       "</style>\n",
       "<table border=\"1\" class=\"dataframe\">\n",
       "  <thead>\n",
       "    <tr style=\"text-align: right;\">\n",
       "      <th></th>\n",
       "      <th>id_cliente</th>\n",
       "      <th>fecha_usable</th>\n",
       "      <th>trx_mes_corrido</th>\n",
       "    </tr>\n",
       "  </thead>\n",
       "  <tbody>\n",
       "    <tr>\n",
       "      <th>0</th>\n",
       "      <td>1</td>\n",
       "      <td>2016-09-14</td>\n",
       "      <td>2155637.15</td>\n",
       "    </tr>\n",
       "    <tr>\n",
       "      <th>470262</th>\n",
       "      <td>1</td>\n",
       "      <td>2016-10-10</td>\n",
       "      <td>1174274.69</td>\n",
       "    </tr>\n",
       "    <tr>\n",
       "      <th>724648</th>\n",
       "      <td>1</td>\n",
       "      <td>2016-11-10</td>\n",
       "      <td>1765195.73</td>\n",
       "    </tr>\n",
       "    <tr>\n",
       "      <th>969356</th>\n",
       "      <td>1</td>\n",
       "      <td>2016-12-13</td>\n",
       "      <td>1525157.17</td>\n",
       "    </tr>\n",
       "    <tr>\n",
       "      <th>1011211</th>\n",
       "      <td>1</td>\n",
       "      <td>2017-01-09</td>\n",
       "      <td>2502761.42</td>\n",
       "    </tr>\n",
       "  </tbody>\n",
       "</table>\n",
       "</div>"
      ],
      "text/plain": [
       "        id_cliente fecha_usable  trx_mes_corrido\n",
       "0                1   2016-09-14       2155637.15\n",
       "470262           1   2016-10-10       1174274.69\n",
       "724648           1   2016-11-10       1765195.73\n",
       "969356           1   2016-12-13       1525157.17\n",
       "1011211          1   2017-01-09       2502761.42"
      ]
     },
     "execution_count": 38,
     "metadata": {},
     "output_type": "execute_result"
    }
   ],
   "source": [
    "data_gasto.head()"
   ]
  },
  {
   "cell_type": "code",
   "execution_count": 59,
   "metadata": {},
   "outputs": [],
   "source": [
    "data_clean_merged_final = pd.merge_asof(data_clean_merged.sort_values(['fecha_usable']),data_gasto.sort_values(['fecha_usable']),on='fecha_usable', by='id_cliente')"
   ]
  },
  {
   "cell_type": "code",
   "execution_count": 61,
   "metadata": {},
   "outputs": [
    {
     "data": {
      "text/plain": [
       "Index(['id_trn_ach', 'id_cliente', 'valor_trx', 'ref1', 'ref2', 'ref3',\n",
       "       'sector', 'subsector', 'descripcion', 'fecha_usable', 'ref1_exp_nlp',\n",
       "       'ref2_exp_nlp', 'ref3_exp_nlp', 'primer_subsector', 'segundo_subsector',\n",
       "       'tercer_subsector', 'primer_descripcion', 'segundo_descripcion',\n",
       "       'tercer_descripcion', 'trx_mes_corrido'],\n",
       "      dtype='object')"
      ]
     },
     "execution_count": 61,
     "metadata": {},
     "output_type": "execute_result"
    }
   ],
   "source": [
    "data_clean_merged_final.columns"
   ]
  },
  {
   "cell_type": "code",
   "execution_count": 65,
   "metadata": {
    "collapsed": true
   },
   "outputs": [],
   "source": [
    "data_clean_merged_final[['primer_subsector', 'segundo_subsector',\n",
    "       'tercer_subsector', 'primer_descripcion', 'segundo_descripcion',\n",
    "       'tercer_descripcion']] = data_clean_merged_final[['primer_subsector', 'segundo_subsector',\n",
    "       'tercer_subsector', 'primer_descripcion', 'segundo_descripcion',\n",
    "       'tercer_descripcion']].fillna(value='NINGUNO')"
   ]
  },
  {
   "cell_type": "code",
   "execution_count": 66,
   "metadata": {},
   "outputs": [
    {
     "data": {
      "text/html": [
       "<div>\n",
       "<style>\n",
       "    .dataframe thead tr:only-child th {\n",
       "        text-align: right;\n",
       "    }\n",
       "\n",
       "    .dataframe thead th {\n",
       "        text-align: left;\n",
       "    }\n",
       "\n",
       "    .dataframe tbody tr th {\n",
       "        vertical-align: top;\n",
       "    }\n",
       "</style>\n",
       "<table border=\"1\" class=\"dataframe\">\n",
       "  <thead>\n",
       "    <tr style=\"text-align: right;\">\n",
       "      <th></th>\n",
       "      <th>id_trn_ach</th>\n",
       "      <th>id_cliente</th>\n",
       "      <th>valor_trx</th>\n",
       "      <th>ref1</th>\n",
       "      <th>ref2</th>\n",
       "      <th>ref3</th>\n",
       "      <th>sector</th>\n",
       "      <th>subsector</th>\n",
       "      <th>descripcion</th>\n",
       "      <th>fecha_usable</th>\n",
       "      <th>ref1_exp_nlp</th>\n",
       "      <th>ref2_exp_nlp</th>\n",
       "      <th>ref3_exp_nlp</th>\n",
       "      <th>primer_subsector</th>\n",
       "      <th>segundo_subsector</th>\n",
       "      <th>tercer_subsector</th>\n",
       "      <th>primer_descripcion</th>\n",
       "      <th>segundo_descripcion</th>\n",
       "      <th>tercer_descripcion</th>\n",
       "      <th>trx_mes_corrido</th>\n",
       "    </tr>\n",
       "  </thead>\n",
       "  <tbody>\n",
       "    <tr>\n",
       "      <th>0</th>\n",
       "      <td>215120528</td>\n",
       "      <td>17734</td>\n",
       "      <td>277551.29</td>\n",
       "      <td>Pago OnLine Amway</td>\n",
       "      <td>CC</td>\n",
       "      <td>NaN</td>\n",
       "      <td>NaN</td>\n",
       "      <td>NaN</td>\n",
       "      <td>NaN</td>\n",
       "      <td>2016-09-01 00:00:04</td>\n",
       "      <td>[pago, online, amway]</td>\n",
       "      <td>cc</td>\n",
       "      <td>cc</td>\n",
       "      <td>NINGUNO</td>\n",
       "      <td>NINGUNO</td>\n",
       "      <td>NINGUNO</td>\n",
       "      <td>NINGUNO</td>\n",
       "      <td>NINGUNO</td>\n",
       "      <td>NINGUNO</td>\n",
       "      <td>863895.90</td>\n",
       "    </tr>\n",
       "    <tr>\n",
       "      <th>1</th>\n",
       "      <td>215120525</td>\n",
       "      <td>248749</td>\n",
       "      <td>165555.19</td>\n",
       "      <td>Pago por iRecaudo de Claro Soluciones Móviles</td>\n",
       "      <td>NaN</td>\n",
       "      <td>NaN</td>\n",
       "      <td>NaN</td>\n",
       "      <td>NaN</td>\n",
       "      <td>NaN</td>\n",
       "      <td>2016-09-01 00:00:50</td>\n",
       "      <td>[pago, irecaudo, soluciones, moviles]</td>\n",
       "      <td>vacio</td>\n",
       "      <td>vacio</td>\n",
       "      <td>NINGUNO</td>\n",
       "      <td>NINGUNO</td>\n",
       "      <td>NINGUNO</td>\n",
       "      <td>NINGUNO</td>\n",
       "      <td>NINGUNO</td>\n",
       "      <td>NINGUNO</td>\n",
       "      <td>691192.76</td>\n",
       "    </tr>\n",
       "    <tr>\n",
       "      <th>2</th>\n",
       "      <td>215120522</td>\n",
       "      <td>11856</td>\n",
       "      <td>32229.02</td>\n",
       "      <td>Pago de Saldo</td>\n",
       "      <td>NaN</td>\n",
       "      <td>NaN</td>\n",
       "      <td>MEDIOS DE COMUNICACION</td>\n",
       "      <td>TELEFONIA FIJA</td>\n",
       "      <td>Servicios de telefonía fija</td>\n",
       "      <td>2016-09-01 00:00:59</td>\n",
       "      <td>[pago, saldo]</td>\n",
       "      <td>vacio</td>\n",
       "      <td>vacio</td>\n",
       "      <td>NINGUNO</td>\n",
       "      <td>NINGUNO</td>\n",
       "      <td>NINGUNO</td>\n",
       "      <td>NINGUNO</td>\n",
       "      <td>NINGUNO</td>\n",
       "      <td>NINGUNO</td>\n",
       "      <td>32229.02</td>\n",
       "    </tr>\n",
       "    <tr>\n",
       "      <th>3</th>\n",
       "      <td>215120581</td>\n",
       "      <td>212722</td>\n",
       "      <td>381295.37</td>\n",
       "      <td>CC</td>\n",
       "      <td>NaN</td>\n",
       "      <td>NaN</td>\n",
       "      <td>NaN</td>\n",
       "      <td>NaN</td>\n",
       "      <td>NaN</td>\n",
       "      <td>2016-09-01 00:01:08</td>\n",
       "      <td>cc</td>\n",
       "      <td>vacio</td>\n",
       "      <td>vacio</td>\n",
       "      <td>NINGUNO</td>\n",
       "      <td>NINGUNO</td>\n",
       "      <td>NINGUNO</td>\n",
       "      <td>NINGUNO</td>\n",
       "      <td>NINGUNO</td>\n",
       "      <td>NINGUNO</td>\n",
       "      <td>488658.23</td>\n",
       "    </tr>\n",
       "    <tr>\n",
       "      <th>4</th>\n",
       "      <td>215120539</td>\n",
       "      <td>283039</td>\n",
       "      <td>321851.13</td>\n",
       "      <td>Vuelo MDE PSO</td>\n",
       "      <td>CC</td>\n",
       "      <td>NaN</td>\n",
       "      <td>NaN</td>\n",
       "      <td>NaN</td>\n",
       "      <td>NaN</td>\n",
       "      <td>2016-09-01 00:01:38</td>\n",
       "      <td>[vuelo, mde, pso]</td>\n",
       "      <td>cc</td>\n",
       "      <td>cc</td>\n",
       "      <td>NINGUNO</td>\n",
       "      <td>NINGUNO</td>\n",
       "      <td>NINGUNO</td>\n",
       "      <td>NINGUNO</td>\n",
       "      <td>NINGUNO</td>\n",
       "      <td>NINGUNO</td>\n",
       "      <td>321851.13</td>\n",
       "    </tr>\n",
       "  </tbody>\n",
       "</table>\n",
       "</div>"
      ],
      "text/plain": [
       "  id_trn_ach id_cliente  valor_trx  \\\n",
       "0  215120528      17734  277551.29   \n",
       "1  215120525     248749  165555.19   \n",
       "2  215120522      11856   32229.02   \n",
       "3  215120581     212722  381295.37   \n",
       "4  215120539     283039  321851.13   \n",
       "\n",
       "                                            ref1 ref2  ref3  \\\n",
       "0                              Pago OnLine Amway   CC   NaN   \n",
       "1  Pago por iRecaudo de Claro Soluciones Móviles  NaN   NaN   \n",
       "2                                  Pago de Saldo  NaN   NaN   \n",
       "3                                             CC  NaN   NaN   \n",
       "4                                  Vuelo MDE PSO   CC   NaN   \n",
       "\n",
       "                   sector       subsector                  descripcion  \\\n",
       "0                     NaN             NaN                          NaN   \n",
       "1                     NaN             NaN                          NaN   \n",
       "2  MEDIOS DE COMUNICACION  TELEFONIA FIJA  Servicios de telefonía fija   \n",
       "3                     NaN             NaN                          NaN   \n",
       "4                     NaN             NaN                          NaN   \n",
       "\n",
       "         fecha_usable                           ref1_exp_nlp ref2_exp_nlp  \\\n",
       "0 2016-09-01 00:00:04                  [pago, online, amway]           cc   \n",
       "1 2016-09-01 00:00:50  [pago, irecaudo, soluciones, moviles]        vacio   \n",
       "2 2016-09-01 00:00:59                          [pago, saldo]        vacio   \n",
       "3 2016-09-01 00:01:08                                     cc        vacio   \n",
       "4 2016-09-01 00:01:38                      [vuelo, mde, pso]           cc   \n",
       "\n",
       "  ref3_exp_nlp primer_subsector segundo_subsector tercer_subsector  \\\n",
       "0           cc          NINGUNO           NINGUNO          NINGUNO   \n",
       "1        vacio          NINGUNO           NINGUNO          NINGUNO   \n",
       "2        vacio          NINGUNO           NINGUNO          NINGUNO   \n",
       "3        vacio          NINGUNO           NINGUNO          NINGUNO   \n",
       "4           cc          NINGUNO           NINGUNO          NINGUNO   \n",
       "\n",
       "  primer_descripcion segundo_descripcion tercer_descripcion  trx_mes_corrido  \n",
       "0            NINGUNO             NINGUNO            NINGUNO        863895.90  \n",
       "1            NINGUNO             NINGUNO            NINGUNO        691192.76  \n",
       "2            NINGUNO             NINGUNO            NINGUNO         32229.02  \n",
       "3            NINGUNO             NINGUNO            NINGUNO        488658.23  \n",
       "4            NINGUNO             NINGUNO            NINGUNO        321851.13  "
      ]
     },
     "execution_count": 66,
     "metadata": {},
     "output_type": "execute_result"
    }
   ],
   "source": [
    "data_clean_merged_final.head()"
   ]
  },
  {
   "cell_type": "code",
   "execution_count": 67,
   "metadata": {
    "collapsed": true
   },
   "outputs": [],
   "source": [
    "data_clean_merged_final.to_pickle('dt_trxpse_V4.pkl.gzip')"
   ]
  },
  {
   "cell_type": "markdown",
   "metadata": {},
   "source": [
    "# Con esto la data queda enriquecida con el monto que gasto el mes anterior, sus transacciones preferidas."
   ]
  },
  {
   "cell_type": "code",
   "execution_count": null,
   "metadata": {
    "scrolled": true
   },
   "outputs": [],
   "source": [
    "#####DE AQUÍ PARA ABAJO, TODO ES CÓDIGO FALLIDO Y CÓDIGO BORRADOR\n",
    "acumulado_dias = get_cumulative_values(df,'D')\n",
    "acumulado_meses = get_cumulative_values(df,'M').to_frame(name='valor_trx_mes')\n",
    "fin_mes_previo = (acumulado_dias.index.get_level_values('fecha_usable').to_period('M').astype('datetime64[D]')-np.timedelta64(1,unit='D')).to_period('D')\n",
    "acumulado_meses['id_cliente_key'] = acumulado_meses.index.get_level_values('id_cliente')\n",
    "acumulado_meses['fin_mes_previo'] = acumulado_meses.index.get_level_values('fecha_usable')\n",
    "df_final = pd.DataFrame({'valor_trx_acum':acumulado_dias,'id_cliente_key':acumulado_dias.index.get_level_values('id_cliente'),'fecha_usable':acumulado_dias.index.get_level_values('fecha_usable'),'fin_mes_previo':fin_mes_previo.astype('datetime64[D]')},index=acumulado_dias.index)\n",
    "pd.merge_asof(df_final.sort_values(['fin_mes_previo']),acumulado_meses.sort_values(['fin_mes_previo']),on=['fin_mes_previo'],by='id_cliente_key').sort_values(['id_cliente_key','fecha_usable'])['valor_trx_mes'].fillna(0)\n"
   ]
  },
  {
   "cell_type": "code",
   "execution_count": null,
   "metadata": {
    "scrolled": true
   },
   "outputs": [],
   "source": [
    "#df_final.join(acumulado_meses, on=['id_cliente_key','fin_mes_previo'], rsuffix='_x')\n",
    "#df_final.merge(acumulado_meses,on=['id_cliente','fin_mes_previo'],how='left',left_index=False, right_index=False)\n",
    "#pd.merge_asof(df_final.sort_values(['fin_mes_previo']),acumulado_meses.sort_values(['fin_mes_previo']),on=['fin_mes_previo'],by='id_cliente_key')\n",
    "#df_final['fin_mes_previo']\n",
    "#acumulado_meses"
   ]
  },
  {
   "cell_type": "code",
   "execution_count": null,
   "metadata": {
    "collapsed": true
   },
   "outputs": [],
   "source": [
    "###### OTROS MÉTODOS QUE NO FUNCIONARON\n",
    "\n",
    "\n",
    "#Obtiene las categorías de sectores y subsectores en las que el cliente del registro más \n",
    "#gastó (hasta un máximo de max_categorias) en la ventana de tiempo comprendida\n",
    "#entre fecha_base y ventana_dias días antes\n",
    "#row: pandas.Series con información de una fila de un dataframe\n",
    "#ventana_dias_int: Cantidad de días anteriores a la fecha del registro desde donde se\n",
    "#empezará a hacer la jerarquización de las categorías\n",
    "#df: DataFrame en donde se hará la búsqueda de los registros para poder hacer la jerarquización.\n",
    "def top_categories_single(row,ventana_dias_int,df, max_categorias=3):\n",
    "    ventana_dias = np.timedelta64(ventana_dias_int,'D')\n",
    "    id = row['id_cliente']\n",
    "    fecha_base =row['fecha_usable']\n",
    "    transacciones_cliente = df[df.id_cliente == id]\n",
    "    transacciones_cliente = transacciones_cliente[(transacciones_cliente.fecha_usable>=(fecha_base-ventana_dias)) & (transacciones_cliente.fecha_usable<fecha_base)]\n",
    "    top_categorias = transacciones_cliente['sector'].value_counts().index#.groupby('sector')['sector'].value_counts().index\n",
    "    top_subcategorias = transacciones_cliente['subsector'].value_counts().index#.groupby('subsector')['subsector'].value_counts().index\n",
    "    cant_top_categorias = len(top_categorias)\n",
    "    cant_top_subcategorias = len(top_subcategorias)\n",
    "    return pd.Series([top_categorias[i] if i < cant_top_categorias else np.nan for i in range(max_categorias)] +\n",
    "                     [top_subcategorias[i] if i < cant_top_subcategorias else np.nan for i in range(max_categorias)])\n",
    "#     if len(top_categorias)>max_categorias:\n",
    "#         top_categorias = top_categorias[0:max_categorias-1]\n",
    "#     if len(top_subcategorias)>max_categorias:\n",
    "#         top_subcategorias = top_subcategorias[0:max_categorias-1]\n",
    "    \n",
    "    \n",
    "#     return top_categorias.index.get_values(), top_subcategorias.index.get_values()"
   ]
  },
  {
   "cell_type": "code",
   "execution_count": null,
   "metadata": {},
   "outputs": [],
   "source": [
    "#ejemplo de uso:\n",
    "max_category_columns = test_df.apply(top_categories_single,axis=1,ventana_dias_int=30,df=small_df)\n",
    "max_category_columns.columns = ['max_sector_1','max_sector_2','max_sector_3','max_subsector_1','max_subsector_2','max_subsector_3']\n",
    "#después hacer un join\n",
    "test_df.join(max_category_columns)"
   ]
  },
  {
   "cell_type": "code",
   "execution_count": null,
   "metadata": {
    "collapsed": true
   },
   "outputs": [],
   "source": [
    "#Otra solución en la que estoy trabajando. Podría ser más rápida\n",
    "#small_df.groupby([]).size().unstack(fill_value=0)\n",
    "#r =test_df.groupby(['id_cliente'],as_index=False).resample('D',on='fecha_usable')#['sector'].count()#['sector']#.size().unstack(fill_value=0)#.groupby(['id_cliente']).count()#.size().unstack(fill_value=0)\n",
    "sized_df=small_df.groupby(['id_cliente',pd.Grouper(key='fecha_usable',freq='M'),'sector'],as_index=False).size().unstack(fill_value=0).sort_index(level=['id_cliente','fecha_usable'])#.resample('D',level='fecha_usable').sum()"
   ]
  },
  {
   "cell_type": "code",
   "execution_count": null,
   "metadata": {
    "collapsed": true
   },
   "outputs": [],
   "source": [
    "#sized_df['Month'] = sized_df.index.get_level_values(level=1)\n",
    "cantidad_columnas = sized_df.shape[1]\n",
    "#cantidad_columnas\n",
    "sized_df.insert(cantidad_columnas, column='NINGUNO',value=0, allow_duplicates=True)\n",
    "sized_df.insert(cantidad_columnas+1, column='NINGUNO',value=0, allow_duplicates=True)\n",
    "sized_df.insert(cantidad_columnas+2, column='NINGUNO',value=0, allow_duplicates=True)"
   ]
  },
  {
   "cell_type": "code",
   "execution_count": null,
   "metadata": {},
   "outputs": [],
   "source": [
    "sized_df.columns"
   ]
  },
  {
   "cell_type": "code",
   "execution_count": null,
   "metadata": {
    "collapsed": true
   },
   "outputs": [],
   "source": [
    "#[['GOBIERNO','MEDIOS DE COMUNICACION']\n",
    "arank = sized_df.apply(np.argsort, axis=1)"
   ]
  },
  {
   "cell_type": "code",
   "execution_count": null,
   "metadata": {},
   "outputs": [],
   "source": [
    "arank.head()"
   ]
  },
  {
   "cell_type": "code",
   "execution_count": null,
   "metadata": {},
   "outputs": [],
   "source": [
    "sized_df.head()"
   ]
  },
  {
   "cell_type": "code",
   "execution_count": null,
   "metadata": {
    "collapsed": true,
    "scrolled": true
   },
   "outputs": [],
   "source": [
    "ranked_cols = sized_df.columns.to_series()[arank.values[:,::-1][:,:3]]"
   ]
  },
  {
   "cell_type": "code",
   "execution_count": null,
   "metadata": {
    "collapsed": true
   },
   "outputs": [],
   "source": [
    "new_frame = pd.DataFrame(ranked_cols, index=sized_df.index)"
   ]
  },
  {
   "cell_type": "code",
   "execution_count": null,
   "metadata": {},
   "outputs": [],
   "source": [
    "new_frame"
   ]
  },
  {
   "cell_type": "code",
   "execution_count": null,
   "metadata": {},
   "outputs": [],
   "source": [
    "sized_df[['GOBIERNO','MEDIOS DE COMUNICACION']].idxmax(1)"
   ]
  },
  {
   "cell_type": "code",
   "execution_count": null,
   "metadata": {},
   "outputs": [],
   "source": [
    "small_df[small_df.id_cliente == '99745']"
   ]
  },
  {
   "cell_type": "code",
   "execution_count": null,
   "metadata": {
    "collapsed": true
   },
   "outputs": [],
   "source": [
    "#Obtiene las categorías de sectores y subsectores en las que el cliente con id_cliente id más \n",
    "#gastó (hasta un máximo de max_categorias) en la ventana de tiempo comprendida\n",
    "#entre fecha_base y ventana_dias días antes.\n",
    "\n",
    "def top_categories(df,id, fecha_base, ventana_dias, max_categorias=5):\n",
    "    transacciones_cliente = df[df.id_cliente == id]\n",
    "    transacciones_cliente = transacciones_cliente[(transacciones_cliente.fecha_usable>=(fecha_base-ventana_dias)) & (transacciones_cliente.fecha_usable<=fecha_base)]\n",
    "    top_categorias = transacciones_cliente.groupby('sector')['sector'].count()\n",
    "    top_subcategorias = transacciones_cliente.groupby('subsector')['subsector'].count()\n",
    "\n",
    "    if len(top_subcategorias)>max_categorias:\n",
    "        top_categorias = top_categorias[0:max_categorias-1]\n",
    "        top_subcategorias = top_subcategorias[0:max_categorias-1]\n",
    "    \n",
    "    \n",
    "    return top_categorias.index.get_values(), top_subcategorias.index.get_values()\n",
    "\n",
    "#Obtiene el total gastado por el cliente con id_cliente id en lo que va del mes de fecha_base.\n",
    "def total_consumo(df,id, fecha_base):\n",
    "    ventana = fecha_actual-fecha_actual.astype('datetime64[M]')\n",
    "    transacciones_cliente = df[df.id_cliente == id]\n",
    "    transacciones_cliente = transacciones_cliente[(transacciones_cliente.fecha_usable>=(fecha_base-ventana_dias)) & (transacciones_cliente.fecha_usable<=fecha_base)]\n",
    "    conusmo_mes = transacciones_cliente['valor_trx'].sum()\n",
    "    #top_subcategorias = transacciones_cliente.groupby('subsector')['subsector'].count()\n",
    "    return conusmo_mes"
   ]
  },
  {
   "cell_type": "code",
   "execution_count": null,
   "metadata": {
    "collapsed": true
   },
   "outputs": [],
   "source": []
  },
  {
   "cell_type": "code",
   "execution_count": null,
   "metadata": {
    "collapsed": true
   },
   "outputs": [],
   "source": [
    "#Obtiene las categorías de sectores y subsectores en las que el cliente con id_cliente id más \n",
    "#gastó (hasta un máximo de max_categorias) en la ventana de tiempo comprendida\n",
    "#entre fecha_base y ventana_dias días antes. Esta función recibe un dataframe dask.\n",
    "def top_categories_dask(df,id, fecha_base, ventana_dias):\n",
    "    transacciones_cliente = df[df.id_cliente == id]\n",
    "    transacciones_cliente = transacciones_cliente[(transacciones_cliente.fecha_usable>=(fecha_base-ventana_dias)) & (transacciones_cliente.fecha_usable<=fecha_base)].compute()\n",
    "    top_categorias = transacciones_cliente.groupby('sector')['sector'].count()\n",
    "    top_subcategorias = transacciones_cliente.groupby('subsector')['subsector'].count()\n",
    "\n",
    "    if len(top_subcategorias)>max_categorias:\n",
    "        top_categorias = top_categorias[0:max_categorias-1]\n",
    "        top_subcategorias = top_subcategorias[0:max_categorias-1]\n",
    "        \n",
    "    return top_categorias.index.get_values(), top_subcategorias.index.get_values()\n",
    "\n",
    "#Obtiene el total gastado por el cliente con id_cliente id en lo que va del mes de fecha_base.\n",
    "#Esta función recibe un dataframe de dask\n",
    "def total_consumo_dask(df,id, fecha_base):\n",
    "    ventana = fecha_actual-fecha_actual.astype('datetime64[M]')\n",
    "    #transacciones_cliente = df[df.id_cliente == id]\n",
    "    #transacciones_cliente = transacciones_cliente[(transacciones_cliente.fecha_usable>=(fecha_base-ventana_dias)) & (transacciones_cliente.fecha_usable<=fecha_base)].compute()\n",
    "    transacciones_cliente = df[(df.id_cliente == id)&(df.fecha_usable>=(fecha_base-ventana_dias)) & (df.fecha_usable<=fecha_base)].compute()\n",
    "    conusmo_mes = transacciones_cliente['valor_trx'].sum()\n",
    "    #top_subcategorias = transacciones_cliente.groupby('subsector')['subsector'].count()\n",
    "    return conusmo_mes"
   ]
  },
  {
   "cell_type": "code",
   "execution_count": null,
   "metadata": {
    "collapsed": true
   },
   "outputs": [],
   "source": [
    "##preparación de datos para prueba\n",
    "id = '26729'\n",
    "fecha_actual = np.datetime64('2018-04-20')\n",
    "ventana_dias = 10\n",
    "\n"
   ]
  },
  {
   "cell_type": "code",
   "execution_count": null,
   "metadata": {
    "scrolled": false
   },
   "outputs": [],
   "source": [
    "sector, subsector = top_categories(small_df,id,fecha_actual,10)\n",
    "print(sector)\n",
    "print(subsector)"
   ]
  },
  {
   "cell_type": "code",
   "execution_count": null,
   "metadata": {
    "collapsed": true
   },
   "outputs": [],
   "source": [
    "#scraper páginas amarillas\n"
   ]
  }
 ],
 "metadata": {
  "kernelspec": {
   "display_name": "Python 3",
   "language": "python",
   "name": "python3"
  },
  "language_info": {
   "codemirror_mode": {
    "name": "ipython",
    "version": 3
   },
   "file_extension": ".py",
   "mimetype": "text/x-python",
   "name": "python",
   "nbconvert_exporter": "python",
   "pygments_lexer": "ipython3",
   "version": "3.6.2"
  }
 },
 "nbformat": 4,
 "nbformat_minor": 2
}
