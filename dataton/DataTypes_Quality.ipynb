{
 "cells": [
  {
   "cell_type": "code",
   "execution_count": 1,
   "metadata": {},
   "outputs": [],
   "source": [
    "import gensim as gs\n",
    "import nltk\n",
    "import pandas as pd\n",
    "import numpy as np\n",
    "import spacy as spc"
   ]
  },
  {
   "cell_type": "code",
   "execution_count": 2,
   "metadata": {},
   "outputs": [],
   "source": [
    "%matplotlib inline"
   ]
  },
  {
   "cell_type": "markdown",
   "metadata": {},
   "source": [
    "# Chequeo que exista el Directorio"
   ]
  },
  {
   "cell_type": "code",
   "execution_count": 3,
   "metadata": {},
   "outputs": [
    {
     "name": "stdout",
     "output_type": "stream",
     "text": [
      "DataExplorationAndTransformation.ipynb\r\n",
      "DataTypes_POSTag.ipynb\r\n",
      "\u001b[34mdt_info_pagadores_muestra\u001b[m\u001b[m\r\n",
      "\u001b[34mdt_trxpse_personas_2016_2018_muestra_adjt\u001b[m\u001b[m\r\n",
      "fasttext-sbwc.3.6.e20.vec\r\n"
     ]
    }
   ],
   "source": [
    "!ls"
   ]
  },
  {
   "cell_type": "code",
   "execution_count": 6,
   "metadata": {},
   "outputs": [],
   "source": [
    "data = pd.read_csv('dt_trxpse_personas_2016_2018_muestra_adjt/dt_trxpse_personas_2016_2018_muestra_adjt_V1.csv', header = None, quoting = 3)"
   ]
  },
  {
   "cell_type": "code",
   "execution_count": 7,
   "metadata": {},
   "outputs": [],
   "source": [
    "header = [\"id_trn_ach\",\n",
    "\"id_cliente\",\n",
    "\"fecha\",\n",
    "\"hora\",\n",
    "\"valor_trx\",\n",
    "\"ref1\",\n",
    "\"ref2\",\n",
    "\"ref3\",\n",
    "\"sector\",\n",
    "\"subsector\",\n",
    "\"descripcion\"]"
   ]
  },
  {
   "cell_type": "code",
   "execution_count": 8,
   "metadata": {},
   "outputs": [],
   "source": [
    "data.columns = header"
   ]
  },
  {
   "cell_type": "code",
   "execution_count": 9,
   "metadata": {
    "scrolled": true
   },
   "outputs": [
    {
     "data": {
      "text/html": [
       "<div>\n",
       "<style scoped>\n",
       "    .dataframe tbody tr th:only-of-type {\n",
       "        vertical-align: middle;\n",
       "    }\n",
       "\n",
       "    .dataframe tbody tr th {\n",
       "        vertical-align: top;\n",
       "    }\n",
       "\n",
       "    .dataframe thead th {\n",
       "        text-align: right;\n",
       "    }\n",
       "</style>\n",
       "<table border=\"1\" class=\"dataframe\">\n",
       "  <thead>\n",
       "    <tr style=\"text-align: right;\">\n",
       "      <th></th>\n",
       "      <th>id_trn_ach</th>\n",
       "      <th>id_cliente</th>\n",
       "      <th>fecha</th>\n",
       "      <th>hora</th>\n",
       "      <th>valor_trx</th>\n",
       "      <th>ref1</th>\n",
       "      <th>ref2</th>\n",
       "      <th>ref3</th>\n",
       "      <th>sector</th>\n",
       "      <th>subsector</th>\n",
       "      <th>descripcion</th>\n",
       "    </tr>\n",
       "  </thead>\n",
       "  <tbody>\n",
       "    <tr>\n",
       "      <th>0</th>\n",
       "      <td>230435642</td>\n",
       "      <td>3</td>\n",
       "      <td>20161207.0</td>\n",
       "      <td>113451</td>\n",
       "      <td>2122392.51</td>\n",
       "      <td>CC</td>\n",
       "      <td>NaN</td>\n",
       "      <td>NaN</td>\n",
       "      <td>\\N</td>\n",
       "      <td>\\N</td>\n",
       "      <td>\\N</td>\n",
       "    </tr>\n",
       "    <tr>\n",
       "      <th>1</th>\n",
       "      <td>222356110</td>\n",
       "      <td>10</td>\n",
       "      <td>20161016.0</td>\n",
       "      <td>3424</td>\n",
       "      <td>148438.37</td>\n",
       "      <td>Referencia:  Contrato:  Valor:</td>\n",
       "      <td>CC</td>\n",
       "      <td>NaN</td>\n",
       "      <td>\\N</td>\n",
       "      <td>\\N</td>\n",
       "      <td>\\N</td>\n",
       "    </tr>\n",
       "    <tr>\n",
       "      <th>2</th>\n",
       "      <td>309137749</td>\n",
       "      <td>10</td>\n",
       "      <td>20180120.0</td>\n",
       "      <td>195042</td>\n",
       "      <td>94025.19</td>\n",
       "      <td>CC</td>\n",
       "      <td>NaN</td>\n",
       "      <td>NaN</td>\n",
       "      <td>\\N</td>\n",
       "      <td>\\N</td>\n",
       "      <td>\\N</td>\n",
       "    </tr>\n",
       "    <tr>\n",
       "      <th>3</th>\n",
       "      <td>324614737</td>\n",
       "      <td>10</td>\n",
       "      <td>20180326.0</td>\n",
       "      <td>192146</td>\n",
       "      <td>94430.07000000001</td>\n",
       "      <td>CC</td>\n",
       "      <td>NaN</td>\n",
       "      <td>NaN</td>\n",
       "      <td>\\N</td>\n",
       "      <td>\\N</td>\n",
       "      <td>\\N</td>\n",
       "    </tr>\n",
       "    <tr>\n",
       "      <th>4</th>\n",
       "      <td>235344690</td>\n",
       "      <td>18</td>\n",
       "      <td>20170106.0</td>\n",
       "      <td>201317</td>\n",
       "      <td>670645.5699999999</td>\n",
       "      <td>MEDICINA PREPAGADA COLSANITAS</td>\n",
       "      <td>CE</td>\n",
       "      <td>NaN</td>\n",
       "      <td>\\N</td>\n",
       "      <td>\\N</td>\n",
       "      <td>\\N</td>\n",
       "    </tr>\n",
       "    <tr>\n",
       "      <th>5</th>\n",
       "      <td>320049316</td>\n",
       "      <td>18</td>\n",
       "      <td>20180307.0</td>\n",
       "      <td>143513</td>\n",
       "      <td>706933.7</td>\n",
       "      <td>RECAUDO COLSANITAS</td>\n",
       "      <td>CC</td>\n",
       "      <td>NaN</td>\n",
       "      <td>\\N</td>\n",
       "      <td>\\N</td>\n",
       "      <td>\\N</td>\n",
       "    </tr>\n",
       "    <tr>\n",
       "      <th>6</th>\n",
       "      <td>230519178</td>\n",
       "      <td>19</td>\n",
       "      <td>20161207.0</td>\n",
       "      <td>155840</td>\n",
       "      <td>306773.79</td>\n",
       "      <td>CC</td>\n",
       "      <td>NaN</td>\n",
       "      <td>NaN</td>\n",
       "      <td>\\N</td>\n",
       "      <td>\\N</td>\n",
       "      <td>\\N</td>\n",
       "    </tr>\n",
       "    <tr>\n",
       "      <th>7</th>\n",
       "      <td>241307506</td>\n",
       "      <td>19</td>\n",
       "      <td>20170210.0</td>\n",
       "      <td>142809</td>\n",
       "      <td>701067.98</td>\n",
       "      <td>Pago de la Planilla Cesantias</td>\n",
       "      <td>CEDULA DE CIUDADANIA</td>\n",
       "      <td>NaN</td>\n",
       "      <td>SERVICIOS FINANCIEROS</td>\n",
       "      <td>OTROS SERVICIOS FINANCIEROS</td>\n",
       "      <td>Otras actividades auxiliares de las actividade...</td>\n",
       "    </tr>\n",
       "    <tr>\n",
       "      <th>8</th>\n",
       "      <td>316193109</td>\n",
       "      <td>24</td>\n",
       "      <td>20180220.0</td>\n",
       "      <td>153148</td>\n",
       "      <td>767571.01</td>\n",
       "      <td>CC</td>\n",
       "      <td>NaN</td>\n",
       "      <td>NaN</td>\n",
       "      <td>\\N</td>\n",
       "      <td>\\N</td>\n",
       "      <td>\\N</td>\n",
       "    </tr>\n",
       "    <tr>\n",
       "      <th>9</th>\n",
       "      <td>282076350</td>\n",
       "      <td>26</td>\n",
       "      <td>20170914.0</td>\n",
       "      <td>70026</td>\n",
       "      <td>100277.45</td>\n",
       "      <td>Pago de la factura # CONJUNTO RESIDENCIAL PIET...</td>\n",
       "      <td>IDC</td>\n",
       "      <td>NaN</td>\n",
       "      <td>\\N</td>\n",
       "      <td>\\N</td>\n",
       "      <td>\\N</td>\n",
       "    </tr>\n",
       "    <tr>\n",
       "      <th>10</th>\n",
       "      <td>300800637</td>\n",
       "      <td>26</td>\n",
       "      <td>20171212.0</td>\n",
       "      <td>152115</td>\n",
       "      <td>165877.09</td>\n",
       "      <td>Pago de la factura # CONJUNTO RESIDENCIAL PIET...</td>\n",
       "      <td>IDC</td>\n",
       "      <td>NaN</td>\n",
       "      <td>\\N</td>\n",
       "      <td>\\N</td>\n",
       "      <td>\\N</td>\n",
       "    </tr>\n",
       "    <tr>\n",
       "      <th>11</th>\n",
       "      <td>239292415</td>\n",
       "      <td>28</td>\n",
       "      <td>20170201.0</td>\n",
       "      <td>71904</td>\n",
       "      <td>776525.0699999999</td>\n",
       "      <td>Pago de saldo plan familiar</td>\n",
       "      <td>CE</td>\n",
       "      <td>NaN</td>\n",
       "      <td>\\N</td>\n",
       "      <td>\\N</td>\n",
       "      <td>\\N</td>\n",
       "    </tr>\n",
       "    <tr>\n",
       "      <th>12</th>\n",
       "      <td>244472692</td>\n",
       "      <td>28</td>\n",
       "      <td>20170301.0</td>\n",
       "      <td>80515</td>\n",
       "      <td>787506.25</td>\n",
       "      <td>Pago de saldo plan familiar</td>\n",
       "      <td>CE</td>\n",
       "      <td>NaN</td>\n",
       "      <td>\\N</td>\n",
       "      <td>\\N</td>\n",
       "      <td>\\N</td>\n",
       "    </tr>\n",
       "    <tr>\n",
       "      <th>13</th>\n",
       "      <td>357947598</td>\n",
       "      <td>28</td>\n",
       "      <td>20180803.0</td>\n",
       "      <td>93642</td>\n",
       "      <td>22985.41</td>\n",
       "      <td>NaN</td>\n",
       "      <td>NaN</td>\n",
       "      <td>NaN</td>\n",
       "      <td>\\N</td>\n",
       "      <td>\\N</td>\n",
       "      <td>\\N</td>\n",
       "    </tr>\n",
       "    <tr>\n",
       "      <th>14</th>\n",
       "      <td>271391421</td>\n",
       "      <td>29</td>\n",
       "      <td>20170721.0</td>\n",
       "      <td>105121</td>\n",
       "      <td>4395.73</td>\n",
       "      <td>CC</td>\n",
       "      <td>NaN</td>\n",
       "      <td>NaN</td>\n",
       "      <td>\\N</td>\n",
       "      <td>\\N</td>\n",
       "      <td>\\N</td>\n",
       "    </tr>\n",
       "    <tr>\n",
       "      <th>15</th>\n",
       "      <td>350884991</td>\n",
       "      <td>29</td>\n",
       "      <td>20180707.0</td>\n",
       "      <td>101452</td>\n",
       "      <td>798686.8199999999</td>\n",
       "      <td>CC</td>\n",
       "      <td>NaN</td>\n",
       "      <td>NaN</td>\n",
       "      <td>\\N</td>\n",
       "      <td>\\N</td>\n",
       "      <td>\\N</td>\n",
       "    </tr>\n",
       "    <tr>\n",
       "      <th>16</th>\n",
       "      <td>359125394</td>\n",
       "      <td>35</td>\n",
       "      <td>20180808.0</td>\n",
       "      <td>122953</td>\n",
       "      <td>246964.14</td>\n",
       "      <td>CPV</td>\n",
       "      <td>NaN</td>\n",
       "      <td>NaN</td>\n",
       "      <td>SERVICIOS FINANCIEROS</td>\n",
       "      <td>BANCOS</td>\n",
       "      <td>Bancos comerciales</td>\n",
       "    </tr>\n",
       "    <tr>\n",
       "      <th>17</th>\n",
       "      <td>227400411</td>\n",
       "      <td>40</td>\n",
       "      <td>20161118.0</td>\n",
       "      <td>125744</td>\n",
       "      <td>111960.09</td>\n",
       "      <td>Pago por iRecaudo de Claro Soluciones Móviles</td>\n",
       "      <td>NaN</td>\n",
       "      <td>NaN</td>\n",
       "      <td>\\N</td>\n",
       "      <td>\\N</td>\n",
       "      <td>\\N</td>\n",
       "    </tr>\n",
       "    <tr>\n",
       "      <th>18</th>\n",
       "      <td>285847659</td>\n",
       "      <td>40</td>\n",
       "      <td>20171003.0</td>\n",
       "      <td>151703</td>\n",
       "      <td>192491.73</td>\n",
       "      <td>Pago Factura Asociado</td>\n",
       "      <td>BancoomevaPFA</td>\n",
       "      <td>NaN</td>\n",
       "      <td>SERVICIOS FINANCIEROS</td>\n",
       "      <td>BANCOS</td>\n",
       "      <td>Bancos comerciales</td>\n",
       "    </tr>\n",
       "    <tr>\n",
       "      <th>19</th>\n",
       "      <td>299603150</td>\n",
       "      <td>42</td>\n",
       "      <td>20171206.0</td>\n",
       "      <td>192009</td>\n",
       "      <td>297348.56</td>\n",
       "      <td>CC</td>\n",
       "      <td>NaN</td>\n",
       "      <td>NaN</td>\n",
       "      <td>\\N</td>\n",
       "      <td>\\N</td>\n",
       "      <td>\\N</td>\n",
       "    </tr>\n",
       "  </tbody>\n",
       "</table>\n",
       "</div>"
      ],
      "text/plain": [
       "   id_trn_ach id_cliente       fecha    hora          valor_trx  \\\n",
       "0   230435642          3  20161207.0  113451         2122392.51   \n",
       "1   222356110         10  20161016.0    3424          148438.37   \n",
       "2   309137749         10  20180120.0  195042           94025.19   \n",
       "3   324614737         10  20180326.0  192146  94430.07000000001   \n",
       "4   235344690         18  20170106.0  201317  670645.5699999999   \n",
       "5   320049316         18  20180307.0  143513           706933.7   \n",
       "6   230519178         19  20161207.0  155840          306773.79   \n",
       "7   241307506         19  20170210.0  142809          701067.98   \n",
       "8   316193109         24  20180220.0  153148          767571.01   \n",
       "9   282076350         26  20170914.0   70026          100277.45   \n",
       "10  300800637         26  20171212.0  152115          165877.09   \n",
       "11  239292415         28  20170201.0   71904  776525.0699999999   \n",
       "12  244472692         28  20170301.0   80515          787506.25   \n",
       "13  357947598         28  20180803.0   93642           22985.41   \n",
       "14  271391421         29  20170721.0  105121            4395.73   \n",
       "15  350884991         29  20180707.0  101452  798686.8199999999   \n",
       "16  359125394         35  20180808.0  122953          246964.14   \n",
       "17  227400411         40  20161118.0  125744          111960.09   \n",
       "18  285847659         40  20171003.0  151703          192491.73   \n",
       "19  299603150         42  20171206.0  192009          297348.56   \n",
       "\n",
       "                                                 ref1                  ref2  \\\n",
       "0                                                  CC                   NaN   \n",
       "1                      Referencia:  Contrato:  Valor:                    CC   \n",
       "2                                                  CC                   NaN   \n",
       "3                                                  CC                   NaN   \n",
       "4                       MEDICINA PREPAGADA COLSANITAS                    CE   \n",
       "5                                  RECAUDO COLSANITAS                    CC   \n",
       "6                                                  CC                   NaN   \n",
       "7                       Pago de la Planilla Cesantias  CEDULA DE CIUDADANIA   \n",
       "8                                                  CC                   NaN   \n",
       "9   Pago de la factura # CONJUNTO RESIDENCIAL PIET...                   IDC   \n",
       "10  Pago de la factura # CONJUNTO RESIDENCIAL PIET...                   IDC   \n",
       "11                        Pago de saldo plan familiar                    CE   \n",
       "12                        Pago de saldo plan familiar                    CE   \n",
       "13                                                NaN                   NaN   \n",
       "14                                                 CC                   NaN   \n",
       "15                                                 CC                   NaN   \n",
       "16                                                CPV                   NaN   \n",
       "17      Pago por iRecaudo de Claro Soluciones Móviles                   NaN   \n",
       "18                              Pago Factura Asociado         BancoomevaPFA   \n",
       "19                                                 CC                   NaN   \n",
       "\n",
       "    ref3                 sector                    subsector  \\\n",
       "0    NaN                     \\N                           \\N   \n",
       "1    NaN                     \\N                           \\N   \n",
       "2    NaN                     \\N                           \\N   \n",
       "3    NaN                     \\N                           \\N   \n",
       "4    NaN                     \\N                           \\N   \n",
       "5    NaN                     \\N                           \\N   \n",
       "6    NaN                     \\N                           \\N   \n",
       "7    NaN  SERVICIOS FINANCIEROS  OTROS SERVICIOS FINANCIEROS   \n",
       "8    NaN                     \\N                           \\N   \n",
       "9    NaN                     \\N                           \\N   \n",
       "10   NaN                     \\N                           \\N   \n",
       "11   NaN                     \\N                           \\N   \n",
       "12   NaN                     \\N                           \\N   \n",
       "13   NaN                     \\N                           \\N   \n",
       "14   NaN                     \\N                           \\N   \n",
       "15   NaN                     \\N                           \\N   \n",
       "16   NaN  SERVICIOS FINANCIEROS                       BANCOS   \n",
       "17   NaN                     \\N                           \\N   \n",
       "18   NaN  SERVICIOS FINANCIEROS                       BANCOS   \n",
       "19   NaN                     \\N                           \\N   \n",
       "\n",
       "                                          descripcion  \n",
       "0                                                  \\N  \n",
       "1                                                  \\N  \n",
       "2                                                  \\N  \n",
       "3                                                  \\N  \n",
       "4                                                  \\N  \n",
       "5                                                  \\N  \n",
       "6                                                  \\N  \n",
       "7   Otras actividades auxiliares de las actividade...  \n",
       "8                                                  \\N  \n",
       "9                                                  \\N  \n",
       "10                                                 \\N  \n",
       "11                                                 \\N  \n",
       "12                                                 \\N  \n",
       "13                                                 \\N  \n",
       "14                                                 \\N  \n",
       "15                                                 \\N  \n",
       "16                                 Bancos comerciales  \n",
       "17                                                 \\N  \n",
       "18                                 Bancos comerciales  \n",
       "19                                                 \\N  "
      ]
     },
     "execution_count": 9,
     "metadata": {},
     "output_type": "execute_result"
    }
   ],
   "source": [
    "data.head(20)"
   ]
  },
  {
   "cell_type": "markdown",
   "metadata": {},
   "source": [
    "# Chequeo los largos de los ref1"
   ]
  },
  {
   "cell_type": "code",
   "execution_count": 10,
   "metadata": {
    "scrolled": true
   },
   "outputs": [],
   "source": [
    "maxlen = 0\n",
    "for i,row in enumerate(data[\"ref1\"]):\n",
    "    try:\n",
    "        largo = len(row.split())\n",
    "        if largo > 1000:\n",
    "            pass#print(row)\n",
    "    except:\n",
    "        largo = maxlen\n",
    "        \n",
    "    maxlen = max(maxlen,largo)"
   ]
  },
  {
   "cell_type": "code",
   "execution_count": 11,
   "metadata": {},
   "outputs": [
    {
     "data": {
      "text/plain": [
       "20"
      ]
     },
     "execution_count": 11,
     "metadata": {},
     "output_type": "execute_result"
    }
   ],
   "source": [
    "maxlen"
   ]
  },
  {
   "cell_type": "markdown",
   "metadata": {},
   "source": [
    "# Esperable que sean maximo 20 caracteres no separados."
   ]
  },
  {
   "cell_type": "markdown",
   "metadata": {},
   "source": [
    "# Conversion a un solo formato de fecha"
   ]
  },
  {
   "cell_type": "code",
   "execution_count": 12,
   "metadata": {},
   "outputs": [
    {
     "data": {
      "text/html": [
       "<div>\n",
       "<style scoped>\n",
       "    .dataframe tbody tr th:only-of-type {\n",
       "        vertical-align: middle;\n",
       "    }\n",
       "\n",
       "    .dataframe tbody tr th {\n",
       "        vertical-align: top;\n",
       "    }\n",
       "\n",
       "    .dataframe thead th {\n",
       "        text-align: right;\n",
       "    }\n",
       "</style>\n",
       "<table border=\"1\" class=\"dataframe\">\n",
       "  <thead>\n",
       "    <tr style=\"text-align: right;\">\n",
       "      <th></th>\n",
       "      <th>id_trn_ach</th>\n",
       "      <th>id_cliente</th>\n",
       "      <th>fecha</th>\n",
       "      <th>hora</th>\n",
       "      <th>valor_trx</th>\n",
       "      <th>ref1</th>\n",
       "      <th>ref2</th>\n",
       "      <th>ref3</th>\n",
       "      <th>sector</th>\n",
       "      <th>subsector</th>\n",
       "      <th>descripcion</th>\n",
       "    </tr>\n",
       "  </thead>\n",
       "  <tbody>\n",
       "    <tr>\n",
       "      <th>0</th>\n",
       "      <td>230435642</td>\n",
       "      <td>3</td>\n",
       "      <td>20161207.0</td>\n",
       "      <td>113451</td>\n",
       "      <td>2122392.51</td>\n",
       "      <td>CC</td>\n",
       "      <td>NaN</td>\n",
       "      <td>NaN</td>\n",
       "      <td>\\N</td>\n",
       "      <td>\\N</td>\n",
       "      <td>\\N</td>\n",
       "    </tr>\n",
       "    <tr>\n",
       "      <th>1</th>\n",
       "      <td>222356110</td>\n",
       "      <td>10</td>\n",
       "      <td>20161016.0</td>\n",
       "      <td>3424</td>\n",
       "      <td>148438.37</td>\n",
       "      <td>Referencia:  Contrato:  Valor:</td>\n",
       "      <td>CC</td>\n",
       "      <td>NaN</td>\n",
       "      <td>\\N</td>\n",
       "      <td>\\N</td>\n",
       "      <td>\\N</td>\n",
       "    </tr>\n",
       "    <tr>\n",
       "      <th>2</th>\n",
       "      <td>309137749</td>\n",
       "      <td>10</td>\n",
       "      <td>20180120.0</td>\n",
       "      <td>195042</td>\n",
       "      <td>94025.19</td>\n",
       "      <td>CC</td>\n",
       "      <td>NaN</td>\n",
       "      <td>NaN</td>\n",
       "      <td>\\N</td>\n",
       "      <td>\\N</td>\n",
       "      <td>\\N</td>\n",
       "    </tr>\n",
       "    <tr>\n",
       "      <th>3</th>\n",
       "      <td>324614737</td>\n",
       "      <td>10</td>\n",
       "      <td>20180326.0</td>\n",
       "      <td>192146</td>\n",
       "      <td>94430.07000000001</td>\n",
       "      <td>CC</td>\n",
       "      <td>NaN</td>\n",
       "      <td>NaN</td>\n",
       "      <td>\\N</td>\n",
       "      <td>\\N</td>\n",
       "      <td>\\N</td>\n",
       "    </tr>\n",
       "    <tr>\n",
       "      <th>4</th>\n",
       "      <td>235344690</td>\n",
       "      <td>18</td>\n",
       "      <td>20170106.0</td>\n",
       "      <td>201317</td>\n",
       "      <td>670645.5699999999</td>\n",
       "      <td>MEDICINA PREPAGADA COLSANITAS</td>\n",
       "      <td>CE</td>\n",
       "      <td>NaN</td>\n",
       "      <td>\\N</td>\n",
       "      <td>\\N</td>\n",
       "      <td>\\N</td>\n",
       "    </tr>\n",
       "  </tbody>\n",
       "</table>\n",
       "</div>"
      ],
      "text/plain": [
       "  id_trn_ach id_cliente       fecha    hora          valor_trx  \\\n",
       "0  230435642          3  20161207.0  113451         2122392.51   \n",
       "1  222356110         10  20161016.0    3424          148438.37   \n",
       "2  309137749         10  20180120.0  195042           94025.19   \n",
       "3  324614737         10  20180326.0  192146  94430.07000000001   \n",
       "4  235344690         18  20170106.0  201317  670645.5699999999   \n",
       "\n",
       "                             ref1 ref2  ref3 sector subsector descripcion  \n",
       "0                              CC  NaN   NaN     \\N        \\N          \\N  \n",
       "1  Referencia:  Contrato:  Valor:   CC   NaN     \\N        \\N          \\N  \n",
       "2                              CC  NaN   NaN     \\N        \\N          \\N  \n",
       "3                              CC  NaN   NaN     \\N        \\N          \\N  \n",
       "4   MEDICINA PREPAGADA COLSANITAS   CE   NaN     \\N        \\N          \\N  "
      ]
     },
     "execution_count": 12,
     "metadata": {},
     "output_type": "execute_result"
    }
   ],
   "source": [
    "data.head()"
   ]
  },
  {
   "cell_type": "code",
   "execution_count": 15,
   "metadata": {},
   "outputs": [],
   "source": [
    "data['fecha_string'] = data['fecha'].astype(int).astype(str)\n",
    "data['hora_string'] = data['hora'].astype(str)"
   ]
  },
  {
   "cell_type": "code",
   "execution_count": 20,
   "metadata": {},
   "outputs": [],
   "source": [
    "data['hora_string_final'] = data['hora_string'].apply(lambda x: x.zfill(6))\n",
    "data['fecha_string_final'] = data['fecha_string'].apply(lambda x: x.split('.')[0])"
   ]
  },
  {
   "cell_type": "markdown",
   "metadata": {},
   "source": [
    "# Se puede observar que hay nan y /n, probablemente de un mal parsing. Se reemplaza esto por none."
   ]
  },
  {
   "cell_type": "code",
   "execution_count": 25,
   "metadata": {
    "scrolled": true
   },
   "outputs": [
    {
     "data": {
      "text/plain": [
       "0000\\N    12127\n",
       "000nan      597\n",
       "094501      344\n",
       "110337      342\n",
       "104327      339\n",
       "112201      334\n",
       "110020      334\n",
       "111525      331\n",
       "105835      331\n",
       "112241      331\n",
       "115034      331\n",
       "112722      329\n",
       "103142      328\n",
       "111440      328\n",
       "104501      327\n",
       "112249      327\n",
       "105821      325\n",
       "105901      325\n",
       "111659      325\n",
       "105855      325\n",
       "110055      325\n",
       "110531      325\n",
       "105431      325\n",
       "153001      324\n",
       "112151      324\n",
       "114357      324\n",
       "111126      323\n",
       "114328      323\n",
       "114821      323\n",
       "112123      322\n",
       "          ...  \n",
       "032323        1\n",
       "025635        1\n",
       "035128        1\n",
       "031333        1\n",
       "034617        1\n",
       "024536        1\n",
       "025703        1\n",
       "022453        1\n",
       "025154        1\n",
       "032855        1\n",
       "032439        1\n",
       "031852        1\n",
       "031728        1\n",
       "030119        1\n",
       "024551        1\n",
       "035037        1\n",
       "040226        1\n",
       "013952        1\n",
       "024335        1\n",
       "034520        1\n",
       "035747        1\n",
       "034909        1\n",
       "034850        1\n",
       "040948        1\n",
       "025029        1\n",
       "023349        1\n",
       "033012        1\n",
       "032342        1\n",
       "035742        1\n",
       "031539        1\n",
       "Name: hora_string_final, Length: 85065, dtype: int64"
      ]
     },
     "execution_count": 25,
     "metadata": {},
     "output_type": "execute_result"
    }
   ],
   "source": [
    "data['hora_string_final'].value_counts()"
   ]
  },
  {
   "cell_type": "code",
   "execution_count": 35,
   "metadata": {},
   "outputs": [],
   "source": [
    "data['hora_string_final_clean'] = data['hora_string_final'].apply(lambda x: np.nan if x ==\"0000\\\\N\" else x).apply(lambda x: np.nan if x ==\"000nan\" else x)"
   ]
  },
  {
   "cell_type": "code",
   "execution_count": 40,
   "metadata": {},
   "outputs": [],
   "source": [
    "data['fecha_usable'] = pd.to_datetime(data['fecha_string_final'] + ' ' + data['hora_string_final_clean'], format=\"%Y%m%d %H%M%S\")"
   ]
  },
  {
   "cell_type": "code",
   "execution_count": 43,
   "metadata": {},
   "outputs": [
    {
     "data": {
      "text/plain": [
       "id_trn_ach                         object\n",
       "id_cliente                         object\n",
       "fecha                             float64\n",
       "hora                               object\n",
       "valor_trx                          object\n",
       "ref1                               object\n",
       "ref2                               object\n",
       "ref3                              float64\n",
       "sector                             object\n",
       "subsector                          object\n",
       "descripcion                        object\n",
       "fecha_string                       object\n",
       "hora_string                        object\n",
       "hora_string_pad                    object\n",
       "hora_string_final                  object\n",
       "fecha_string_final                 object\n",
       "hora_string_final_clean            object\n",
       "fecha_usable               datetime64[ns]\n",
       "dtype: object"
      ]
     },
     "execution_count": 43,
     "metadata": {},
     "output_type": "execute_result"
    }
   ],
   "source": [
    "data.dtypes"
   ]
  },
  {
   "cell_type": "markdown",
   "metadata": {},
   "source": [
    "# Procedemos a eliminar las columnas ruido del dataframe"
   ]
  },
  {
   "cell_type": "code",
   "execution_count": 46,
   "metadata": {},
   "outputs": [],
   "source": [
    "data_date_clean = data.drop(['fecha_string','hora_string','hora_string_pad','hora_string_final','fecha_string_final','hora_string_final_clean', 'fecha', 'hora'], axis=1)"
   ]
  },
  {
   "cell_type": "markdown",
   "metadata": {},
   "source": [
    "# Se puede ver que tambien se necesitan otras conversiones para que todo sea coherente."
   ]
  },
  {
   "cell_type": "code",
   "execution_count": 47,
   "metadata": {},
   "outputs": [
    {
     "data": {
      "text/html": [
       "<div>\n",
       "<style scoped>\n",
       "    .dataframe tbody tr th:only-of-type {\n",
       "        vertical-align: middle;\n",
       "    }\n",
       "\n",
       "    .dataframe tbody tr th {\n",
       "        vertical-align: top;\n",
       "    }\n",
       "\n",
       "    .dataframe thead th {\n",
       "        text-align: right;\n",
       "    }\n",
       "</style>\n",
       "<table border=\"1\" class=\"dataframe\">\n",
       "  <thead>\n",
       "    <tr style=\"text-align: right;\">\n",
       "      <th></th>\n",
       "      <th>id_trn_ach</th>\n",
       "      <th>id_cliente</th>\n",
       "      <th>valor_trx</th>\n",
       "      <th>ref1</th>\n",
       "      <th>ref2</th>\n",
       "      <th>ref3</th>\n",
       "      <th>sector</th>\n",
       "      <th>subsector</th>\n",
       "      <th>descripcion</th>\n",
       "      <th>fecha_usable</th>\n",
       "    </tr>\n",
       "  </thead>\n",
       "  <tbody>\n",
       "    <tr>\n",
       "      <th>0</th>\n",
       "      <td>230435642</td>\n",
       "      <td>3</td>\n",
       "      <td>2122392.51</td>\n",
       "      <td>CC</td>\n",
       "      <td>NaN</td>\n",
       "      <td>NaN</td>\n",
       "      <td>\\N</td>\n",
       "      <td>\\N</td>\n",
       "      <td>\\N</td>\n",
       "      <td>2016-12-07 11:34:51</td>\n",
       "    </tr>\n",
       "    <tr>\n",
       "      <th>1</th>\n",
       "      <td>222356110</td>\n",
       "      <td>10</td>\n",
       "      <td>148438.37</td>\n",
       "      <td>Referencia:  Contrato:  Valor:</td>\n",
       "      <td>CC</td>\n",
       "      <td>NaN</td>\n",
       "      <td>\\N</td>\n",
       "      <td>\\N</td>\n",
       "      <td>\\N</td>\n",
       "      <td>2016-10-16 00:34:24</td>\n",
       "    </tr>\n",
       "    <tr>\n",
       "      <th>2</th>\n",
       "      <td>309137749</td>\n",
       "      <td>10</td>\n",
       "      <td>94025.19</td>\n",
       "      <td>CC</td>\n",
       "      <td>NaN</td>\n",
       "      <td>NaN</td>\n",
       "      <td>\\N</td>\n",
       "      <td>\\N</td>\n",
       "      <td>\\N</td>\n",
       "      <td>2018-01-20 19:50:42</td>\n",
       "    </tr>\n",
       "    <tr>\n",
       "      <th>3</th>\n",
       "      <td>324614737</td>\n",
       "      <td>10</td>\n",
       "      <td>94430.07000000001</td>\n",
       "      <td>CC</td>\n",
       "      <td>NaN</td>\n",
       "      <td>NaN</td>\n",
       "      <td>\\N</td>\n",
       "      <td>\\N</td>\n",
       "      <td>\\N</td>\n",
       "      <td>2018-03-26 19:21:46</td>\n",
       "    </tr>\n",
       "    <tr>\n",
       "      <th>4</th>\n",
       "      <td>235344690</td>\n",
       "      <td>18</td>\n",
       "      <td>670645.5699999999</td>\n",
       "      <td>MEDICINA PREPAGADA COLSANITAS</td>\n",
       "      <td>CE</td>\n",
       "      <td>NaN</td>\n",
       "      <td>\\N</td>\n",
       "      <td>\\N</td>\n",
       "      <td>\\N</td>\n",
       "      <td>2017-01-06 20:13:17</td>\n",
       "    </tr>\n",
       "  </tbody>\n",
       "</table>\n",
       "</div>"
      ],
      "text/plain": [
       "  id_trn_ach id_cliente          valor_trx                            ref1  \\\n",
       "0  230435642          3         2122392.51                              CC   \n",
       "1  222356110         10          148438.37  Referencia:  Contrato:  Valor:   \n",
       "2  309137749         10           94025.19                              CC   \n",
       "3  324614737         10  94430.07000000001                              CC   \n",
       "4  235344690         18  670645.5699999999   MEDICINA PREPAGADA COLSANITAS   \n",
       "\n",
       "  ref2  ref3 sector subsector descripcion        fecha_usable  \n",
       "0  NaN   NaN     \\N        \\N          \\N 2016-12-07 11:34:51  \n",
       "1   CC   NaN     \\N        \\N          \\N 2016-10-16 00:34:24  \n",
       "2  NaN   NaN     \\N        \\N          \\N 2018-01-20 19:50:42  \n",
       "3  NaN   NaN     \\N        \\N          \\N 2018-03-26 19:21:46  \n",
       "4   CE   NaN     \\N        \\N          \\N 2017-01-06 20:13:17  "
      ]
     },
     "execution_count": 47,
     "metadata": {},
     "output_type": "execute_result"
    }
   ],
   "source": [
    "data_date_clean.head()"
   ]
  },
  {
   "cell_type": "code",
   "execution_count": 50,
   "metadata": {},
   "outputs": [
    {
     "data": {
      "text/plain": [
       "id_trn_ach              object\n",
       "id_cliente              object\n",
       "valor_trx               object\n",
       "ref1                    object\n",
       "ref2                    object\n",
       "ref3                   float64\n",
       "sector                  object\n",
       "subsector               object\n",
       "descripcion             object\n",
       "fecha_usable    datetime64[ns]\n",
       "dtype: object"
      ]
     },
     "execution_count": 50,
     "metadata": {},
     "output_type": "execute_result"
    }
   ],
   "source": [
    "data_date_clean.dtypes"
   ]
  },
  {
   "cell_type": "code",
   "execution_count": 51,
   "metadata": {
    "scrolled": true
   },
   "outputs": [
    {
     "ename": "ValueError",
     "evalue": "Unable to parse string \"\\N\" at position 1238",
     "output_type": "error",
     "traceback": [
      "\u001b[0;31m---------------------------------------------------------------------------\u001b[0m",
      "\u001b[0;31mValueError\u001b[0m                                Traceback (most recent call last)",
      "\u001b[0;32mpandas/_libs/src/inference.pyx\u001b[0m in \u001b[0;36mpandas._libs.lib.maybe_convert_numeric\u001b[0;34m()\u001b[0m\n",
      "\u001b[0;31mValueError\u001b[0m: Unable to parse string \"\\N\"",
      "\nDuring handling of the above exception, another exception occurred:\n",
      "\u001b[0;31mValueError\u001b[0m                                Traceback (most recent call last)",
      "\u001b[0;32m<ipython-input-51-85eff9a204a1>\u001b[0m in \u001b[0;36m<module>\u001b[0;34m\u001b[0m\n\u001b[0;32m----> 1\u001b[0;31m \u001b[0mdata_date_clean\u001b[0m\u001b[0;34m[\u001b[0m\u001b[0;34m'valor_trx'\u001b[0m\u001b[0;34m]\u001b[0m \u001b[0;34m=\u001b[0m \u001b[0mpd\u001b[0m\u001b[0;34m.\u001b[0m\u001b[0mto_numeric\u001b[0m\u001b[0;34m(\u001b[0m\u001b[0mdata_date_clean\u001b[0m\u001b[0;34m[\u001b[0m\u001b[0;34m'valor_trx'\u001b[0m\u001b[0;34m]\u001b[0m\u001b[0;34m)\u001b[0m\u001b[0;34m\u001b[0m\u001b[0m\n\u001b[0m",
      "\u001b[0;32m~/anaconda3/envs/dataton/lib/python3.7/site-packages/pandas/core/tools/numeric.py\u001b[0m in \u001b[0;36mto_numeric\u001b[0;34m(arg, errors, downcast)\u001b[0m\n\u001b[1;32m    131\u001b[0m             \u001b[0mcoerce_numeric\u001b[0m \u001b[0;34m=\u001b[0m \u001b[0;32mFalse\u001b[0m \u001b[0;32mif\u001b[0m \u001b[0merrors\u001b[0m \u001b[0;32min\u001b[0m \u001b[0;34m(\u001b[0m\u001b[0;34m'ignore'\u001b[0m\u001b[0;34m,\u001b[0m \u001b[0;34m'raise'\u001b[0m\u001b[0;34m)\u001b[0m \u001b[0;32melse\u001b[0m \u001b[0;32mTrue\u001b[0m\u001b[0;34m\u001b[0m\u001b[0m\n\u001b[1;32m    132\u001b[0m             values = lib.maybe_convert_numeric(values, set(),\n\u001b[0;32m--> 133\u001b[0;31m                                                coerce_numeric=coerce_numeric)\n\u001b[0m\u001b[1;32m    134\u001b[0m \u001b[0;34m\u001b[0m\u001b[0m\n\u001b[1;32m    135\u001b[0m     \u001b[0;32mexcept\u001b[0m \u001b[0mException\u001b[0m\u001b[0;34m:\u001b[0m\u001b[0;34m\u001b[0m\u001b[0m\n",
      "\u001b[0;32mpandas/_libs/src/inference.pyx\u001b[0m in \u001b[0;36mpandas._libs.lib.maybe_convert_numeric\u001b[0;34m()\u001b[0m\n",
      "\u001b[0;31mValueError\u001b[0m: Unable to parse string \"\\N\" at position 1238"
     ]
    }
   ],
   "source": [
    "data_date_clean['valor_trx'] = pd.to_numeric(data_date_clean['valor_trx'])"
   ]
  },
  {
   "cell_type": "markdown",
   "metadata": {},
   "source": [
    "Como podemos ver no se puede convertir automaticamente, por lo que ponemos un coerce."
   ]
  },
  {
   "cell_type": "code",
   "execution_count": 52,
   "metadata": {},
   "outputs": [],
   "source": [
    "data_date_clean['valor_trx'] = pd.to_numeric(data_date_clean['valor_trx'], errors='coerce')"
   ]
  },
  {
   "cell_type": "code",
   "execution_count": 53,
   "metadata": {},
   "outputs": [
    {
     "data": {
      "text/plain": [
       "id_trn_ach              object\n",
       "id_cliente              object\n",
       "valor_trx              float64\n",
       "ref1                    object\n",
       "ref2                    object\n",
       "ref3                   float64\n",
       "sector                  object\n",
       "subsector               object\n",
       "descripcion             object\n",
       "fecha_usable    datetime64[ns]\n",
       "dtype: object"
      ]
     },
     "execution_count": 53,
     "metadata": {},
     "output_type": "execute_result"
    }
   ],
   "source": [
    "data_date_clean.dtypes"
   ]
  },
  {
   "cell_type": "markdown",
   "metadata": {},
   "source": [
    "# Notamos tambien que el /N pareciera ser el NaN de esta data. Antes de cerrar la etapa de calidad de datos por tipos e inconsistencias tecnologicas analizaremos un poco mas este /N"
   ]
  },
  {
   "cell_type": "code",
   "execution_count": 66,
   "metadata": {},
   "outputs": [],
   "source": [
    "condicion_interesante = data_date_clean == '\\\\N'"
   ]
  },
  {
   "cell_type": "code",
   "execution_count": 67,
   "metadata": {
    "scrolled": true
   },
   "outputs": [
    {
     "data": {
      "text/plain": [
       "id_trn_ach            0\n",
       "id_cliente            0\n",
       "valor_trx             0\n",
       "ref1              12127\n",
       "ref2                  0\n",
       "ref3                  0\n",
       "sector          8534270\n",
       "subsector       8534270\n",
       "descripcion     8534270\n",
       "fecha_usable          0\n",
       "dtype: int64"
      ]
     },
     "execution_count": 67,
     "metadata": {},
     "output_type": "execute_result"
    }
   ],
   "source": [
    "condicion_interesante.sum()"
   ]
  },
  {
   "cell_type": "code",
   "execution_count": 68,
   "metadata": {},
   "outputs": [],
   "source": [
    "data_date_clean_no_n = data_date_clean\n",
    "data_date_clean_no_n[condicion_interesante] = np.nan"
   ]
  },
  {
   "cell_type": "code",
   "execution_count": 70,
   "metadata": {},
   "outputs": [],
   "source": [
    "condicion_interesante_check = data_date_clean_no_n == '\\\\N'"
   ]
  },
  {
   "cell_type": "code",
   "execution_count": 71,
   "metadata": {},
   "outputs": [
    {
     "data": {
      "text/plain": [
       "id_trn_ach      0\n",
       "id_cliente      0\n",
       "valor_trx       0\n",
       "ref1            0\n",
       "ref2            0\n",
       "ref3            0\n",
       "sector          0\n",
       "subsector       0\n",
       "descripcion     0\n",
       "fecha_usable    0\n",
       "dtype: int64"
      ]
     },
     "execution_count": 71,
     "metadata": {},
     "output_type": "execute_result"
    }
   ],
   "source": [
    "condicion_interesante_check.sum()"
   ]
  },
  {
   "cell_type": "markdown",
   "metadata": {},
   "source": [
    "# Se puede notar que no hay ningun N que altere. Por lo que procedemos a cerrar la calidad de datos"
   ]
  },
  {
   "cell_type": "code",
   "execution_count": 72,
   "metadata": {},
   "outputs": [
    {
     "data": {
      "text/html": [
       "<div>\n",
       "<style scoped>\n",
       "    .dataframe tbody tr th:only-of-type {\n",
       "        vertical-align: middle;\n",
       "    }\n",
       "\n",
       "    .dataframe tbody tr th {\n",
       "        vertical-align: top;\n",
       "    }\n",
       "\n",
       "    .dataframe thead th {\n",
       "        text-align: right;\n",
       "    }\n",
       "</style>\n",
       "<table border=\"1\" class=\"dataframe\">\n",
       "  <thead>\n",
       "    <tr style=\"text-align: right;\">\n",
       "      <th></th>\n",
       "      <th>id_trn_ach</th>\n",
       "      <th>id_cliente</th>\n",
       "      <th>valor_trx</th>\n",
       "      <th>ref1</th>\n",
       "      <th>ref2</th>\n",
       "      <th>ref3</th>\n",
       "      <th>sector</th>\n",
       "      <th>subsector</th>\n",
       "      <th>descripcion</th>\n",
       "      <th>fecha_usable</th>\n",
       "    </tr>\n",
       "  </thead>\n",
       "  <tbody>\n",
       "    <tr>\n",
       "      <th>0</th>\n",
       "      <td>230435642</td>\n",
       "      <td>3</td>\n",
       "      <td>2122392.51</td>\n",
       "      <td>CC</td>\n",
       "      <td>NaN</td>\n",
       "      <td>NaN</td>\n",
       "      <td>NaN</td>\n",
       "      <td>NaN</td>\n",
       "      <td>NaN</td>\n",
       "      <td>2016-12-07 11:34:51</td>\n",
       "    </tr>\n",
       "    <tr>\n",
       "      <th>1</th>\n",
       "      <td>222356110</td>\n",
       "      <td>10</td>\n",
       "      <td>148438.37</td>\n",
       "      <td>Referencia:  Contrato:  Valor:</td>\n",
       "      <td>CC</td>\n",
       "      <td>NaN</td>\n",
       "      <td>NaN</td>\n",
       "      <td>NaN</td>\n",
       "      <td>NaN</td>\n",
       "      <td>2016-10-16 00:34:24</td>\n",
       "    </tr>\n",
       "    <tr>\n",
       "      <th>2</th>\n",
       "      <td>309137749</td>\n",
       "      <td>10</td>\n",
       "      <td>94025.19</td>\n",
       "      <td>CC</td>\n",
       "      <td>NaN</td>\n",
       "      <td>NaN</td>\n",
       "      <td>NaN</td>\n",
       "      <td>NaN</td>\n",
       "      <td>NaN</td>\n",
       "      <td>2018-01-20 19:50:42</td>\n",
       "    </tr>\n",
       "    <tr>\n",
       "      <th>3</th>\n",
       "      <td>324614737</td>\n",
       "      <td>10</td>\n",
       "      <td>94430.07</td>\n",
       "      <td>CC</td>\n",
       "      <td>NaN</td>\n",
       "      <td>NaN</td>\n",
       "      <td>NaN</td>\n",
       "      <td>NaN</td>\n",
       "      <td>NaN</td>\n",
       "      <td>2018-03-26 19:21:46</td>\n",
       "    </tr>\n",
       "    <tr>\n",
       "      <th>4</th>\n",
       "      <td>235344690</td>\n",
       "      <td>18</td>\n",
       "      <td>670645.57</td>\n",
       "      <td>MEDICINA PREPAGADA COLSANITAS</td>\n",
       "      <td>CE</td>\n",
       "      <td>NaN</td>\n",
       "      <td>NaN</td>\n",
       "      <td>NaN</td>\n",
       "      <td>NaN</td>\n",
       "      <td>2017-01-06 20:13:17</td>\n",
       "    </tr>\n",
       "  </tbody>\n",
       "</table>\n",
       "</div>"
      ],
      "text/plain": [
       "  id_trn_ach id_cliente   valor_trx                            ref1 ref2  \\\n",
       "0  230435642          3  2122392.51                              CC  NaN   \n",
       "1  222356110         10   148438.37  Referencia:  Contrato:  Valor:   CC   \n",
       "2  309137749         10    94025.19                              CC  NaN   \n",
       "3  324614737         10    94430.07                              CC  NaN   \n",
       "4  235344690         18   670645.57   MEDICINA PREPAGADA COLSANITAS   CE   \n",
       "\n",
       "   ref3 sector subsector descripcion        fecha_usable  \n",
       "0   NaN    NaN       NaN         NaN 2016-12-07 11:34:51  \n",
       "1   NaN    NaN       NaN         NaN 2016-10-16 00:34:24  \n",
       "2   NaN    NaN       NaN         NaN 2018-01-20 19:50:42  \n",
       "3   NaN    NaN       NaN         NaN 2018-03-26 19:21:46  \n",
       "4   NaN    NaN       NaN         NaN 2017-01-06 20:13:17  "
      ]
     },
     "execution_count": 72,
     "metadata": {},
     "output_type": "execute_result"
    }
   ],
   "source": [
    "data_date_clean_no_n.head()"
   ]
  },
  {
   "cell_type": "markdown",
   "metadata": {},
   "source": [
    "# Con esto cerramos la transformacion de fecha y de Problemas de N.\n",
    "# El proximo Notebook, se enfocara en la estandarizacion de los campos libres y outlier detection."
   ]
  },
  {
   "cell_type": "code",
   "execution_count": 74,
   "metadata": {},
   "outputs": [],
   "source": [
    "data_date_clean_no_n.to_pickle('dt_trxpse_personas_2016_2018_muestra_adjt/dt_trxpse_V2.pkl.gzip')"
   ]
  },
  {
   "cell_type": "code",
   "execution_count": null,
   "metadata": {},
   "outputs": [],
   "source": []
  }
 ],
 "metadata": {
  "kernelspec": {
   "display_name": "Python 3",
   "language": "python",
   "name": "python3"
  },
  "language_info": {
   "codemirror_mode": {
    "name": "ipython",
    "version": 3
   },
   "file_extension": ".py",
   "mimetype": "text/x-python",
   "name": "python",
   "nbconvert_exporter": "python",
   "pygments_lexer": "ipython3",
   "version": "3.7.0"
  }
 },
 "nbformat": 4,
 "nbformat_minor": 2
}
