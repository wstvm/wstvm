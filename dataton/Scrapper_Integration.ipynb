{
 "cells": [
  {
   "cell_type": "markdown",
   "metadata": {},
   "source": [
    "# Dada las necesidades especificas de enriquecimiento de data, desde el punto de vista de informacion colombiana, optamos por realizar un scrapper a paginas amarillas donde podamos enriquecer los nouns identificados"
   ]
  },
  {
   "cell_type": "code",
   "execution_count": 2,
   "metadata": {
    "collapsed": true
   },
   "outputs": [],
   "source": [
    "import pandas as pd\n",
    "import requests\n",
    "import unicodedata\n",
    "#Para instalar bs4: pip install beautifulsoup4\n",
    "from bs4 import BeautifulSoup\n",
    "\n",
    "baseurl='https://www.paginasamarillas.com.co/servicios/'\n",
    "\n",
    "def search(keyword):\n",
    "    r = requests.get(baseurl+keyword)\n",
    "    if r.status_code < 300:\n",
    "        soup = BeautifulSoup(r.content, 'html.parser')\n",
    "        del r\n",
    "        cant_resultados = soup.find('h1',class_='light').get_text().split()[-2]\n",
    "        if cant_resultados is None:\n",
    "            return False\n",
    "        resultados = soup.find_all('div', class_='figBox')\n",
    "\n",
    "        info_list = []\n",
    "        activities_list = []\n",
    "        for i in range(1):\n",
    "            result = resultados[i]\n",
    "\n",
    "            res_url = result.find('a',href=True)['href']\n",
    "\n",
    "            result_r = requests.get(res_url)\n",
    "            \n",
    "            result_soup = BeautifulSoup(result_r.content, 'html.parser')\n",
    "            del result_r\n",
    "            activities_soup = result_soup.find('p', class_='bip-activities')\n",
    "\n",
    "            #for activity in activities_soup.find_all('a'):\n",
    "            \n",
    "            if activities_soup is None:\n",
    "                #activities_list.append([])\n",
    "                pass\n",
    "            else:\n",
    "                for activity in activities_soup.find_all('a'):\n",
    "                    activities_list.append(unicodedata.normalize('NFKD',activity.get_text().lower()).encode('ascii', 'ignore').decode())\n",
    "               \n",
    "            \n",
    "        return activities_list\n",
    "    "
   ]
  },
  {
   "cell_type": "code",
   "execution_count": 3,
   "metadata": {
    "collapsed": true
   },
   "outputs": [],
   "source": [
    "data = pd.read_pickle('dt_trxpse_V3.pkl.gzip')"
   ]
  },
  {
   "cell_type": "code",
   "execution_count": 21,
   "metadata": {},
   "outputs": [
    {
     "name": "stdout",
     "output_type": "stream",
     "text": [
      "3.66 s ± 885 ms per loop (mean ± std. dev. of 7 runs, 1 loop each)\n"
     ]
    }
   ],
   "source": [
    "%timeit search('referencia')"
   ]
  },
  {
   "cell_type": "markdown",
   "metadata": {},
   "source": [
    "# En este momento es inviable usar esto en los 11M de transacciones."
   ]
  },
  {
   "cell_type": "markdown",
   "metadata": {},
   "source": [
    "# El tiempo de computo escalaria aprox a 3.66 * 450000 segs."
   ]
  },
  {
   "cell_type": "markdown",
   "metadata": {},
   "source": [
    "# Vale la pena resaltar que seria la manera ideal de enriquecer el lenguaje. Esto se debe a que la palabra esta sujeta a un contexto colombiano, donde las categorias son lexico que tendria muchisimo potencial predictivo para categorizar."
   ]
  },
  {
   "cell_type": "code",
   "execution_count": 22,
   "metadata": {
    "scrolled": true
   },
   "outputs": [
    {
     "data": {
      "text/plain": [
       "['turismo', 'viajes', 'agencias de viajes']"
      ]
     },
     "execution_count": 22,
     "metadata": {},
     "output_type": "execute_result"
    }
   ],
   "source": [
    "search('avianca')"
   ]
  },
  {
   "cell_type": "code",
   "execution_count": 23,
   "metadata": {
    "scrolled": true
   },
   "outputs": [
    {
     "data": {
      "text/plain": [
       "['boleteria para espectaculos']"
      ]
     },
     "execution_count": 23,
     "metadata": {},
     "output_type": "execute_result"
    }
   ],
   "source": [
    "search('eticket')"
   ]
  },
  {
   "cell_type": "code",
   "execution_count": 24,
   "metadata": {},
   "outputs": [
    {
     "data": {
      "text/plain": [
       "['diligencias y tramites', 'mensajeros', 'servicios a domicilio']"
      ]
     },
     "execution_count": 24,
     "metadata": {},
     "output_type": "execute_result"
    }
   ],
   "source": [
    "search('pago')"
   ]
  },
  {
   "cell_type": "code",
   "execution_count": 25,
   "metadata": {},
   "outputs": [
    {
     "data": {
      "text/plain": [
       "['abogados - asuntos civiles',\n",
       " 'abogados - asuntos criminales',\n",
       " 'abogados - asuntos de seguros']"
      ]
     },
     "execution_count": 25,
     "metadata": {},
     "output_type": "execute_result"
    }
   ],
   "source": [
    "search('pensiones')"
   ]
  },
  {
   "cell_type": "code",
   "execution_count": 28,
   "metadata": {},
   "outputs": [
    {
     "data": {
      "text/plain": [
       "['centros comerciales', 'comercio', 'centros de belleza y estetica']"
      ]
     },
     "execution_count": 28,
     "metadata": {},
     "output_type": "execute_result"
    }
   ],
   "source": [
    "search('cuidadania')"
   ]
  },
  {
   "cell_type": "code",
   "execution_count": 29,
   "metadata": {},
   "outputs": [
    {
     "data": {
      "text/plain": [
       "['turismo']"
      ]
     },
     "execution_count": 29,
     "metadata": {},
     "output_type": "execute_result"
    }
   ],
   "source": [
    "search('booking')"
   ]
  },
  {
   "cell_type": "code",
   "execution_count": 32,
   "metadata": {},
   "outputs": [
    {
     "data": {
      "text/plain": [
       "['bonos de incentivos', 'cambio de cheques', 'prestamos']"
      ]
     },
     "execution_count": 32,
     "metadata": {},
     "output_type": "execute_result"
    }
   ],
   "source": [
    "search('falabella')"
   ]
  },
  {
   "cell_type": "code",
   "execution_count": 34,
   "metadata": {},
   "outputs": [
    {
     "data": {
      "text/plain": [
       "['software financiero',\n",
       " 'software de nomina y recursos humanos',\n",
       " 'consultoria en software']"
      ]
     },
     "execution_count": 34,
     "metadata": {},
     "output_type": "execute_result"
    }
   ],
   "source": [
    "search('cmr')"
   ]
  },
  {
   "cell_type": "code",
   "execution_count": 53,
   "metadata": {},
   "outputs": [],
   "source": [
    "search_list = []\n",
    "for row in data['ref1_exp_nlp']:\n",
    "    if isinstance(row, list):\n",
    "        for double_row in row:\n",
    "            search_list.append(double_row)\n",
    "    else:\n",
    "        search_list.append(row)"
   ]
  },
  {
   "cell_type": "code",
   "execution_count": 54,
   "metadata": {},
   "outputs": [
    {
     "data": {
      "text/plain": [
       "346211"
      ]
     },
     "execution_count": 54,
     "metadata": {},
     "output_type": "execute_result"
    }
   ],
   "source": [
    "pd.Series(search_list).unique().size"
   ]
  },
  {
   "cell_type": "markdown",
   "metadata": {},
   "source": [
    "# Exactamente se necesitan 346211 busquedas unicas para enriquecer esta base."
   ]
  },
  {
   "cell_type": "code",
   "execution_count": null,
   "metadata": {},
   "outputs": [],
   "source": []
  }
 ],
 "metadata": {
  "kernelspec": {
   "display_name": "Python 3",
   "language": "python",
   "name": "python3"
  },
  "language_info": {
   "codemirror_mode": {
    "name": "ipython",
    "version": 3
   },
   "file_extension": ".py",
   "mimetype": "text/x-python",
   "name": "python",
   "nbconvert_exporter": "python",
   "pygments_lexer": "ipython3",
   "version": "3.6.6"
  }
 },
 "nbformat": 4,
 "nbformat_minor": 2
}
